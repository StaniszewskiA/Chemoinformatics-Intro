{
 "cells": [
  {
   "cell_type": "code",
   "execution_count": 1,
   "metadata": {},
   "outputs": [
    {
     "name": "stdout",
     "output_type": "stream",
     "text": [
      "Requirement already satisfied: scikit-fingerprints in e:\\users\\panst\\onedrive\\pulpit\\python\\lib\\site-packages (0.0.0)\n",
      "Requirement already satisfied: datasketch in e:\\users\\panst\\onedrive\\pulpit\\python\\lib\\site-packages (from scikit-fingerprints) (1.6.5)\n",
      "Requirement already satisfied: descriptastorus in e:\\users\\panst\\onedrive\\pulpit\\python\\lib\\site-packages (from scikit-fingerprints) (2.6.1)\n",
      "Requirement already satisfied: e3fp in e:\\users\\panst\\onedrive\\pulpit\\python\\lib\\site-packages (from scikit-fingerprints) (1.2.5)\n",
      "Requirement already satisfied: huggingface_hub in e:\\users\\panst\\onedrive\\pulpit\\python\\lib\\site-packages (from scikit-fingerprints) (0.26.1)\n",
      "Requirement already satisfied: joblib in c:\\users\\panst\\appdata\\roaming\\python\\python311\\site-packages (from scikit-fingerprints) (1.2.0)\n",
      "Requirement already satisfied: mordredcommunity in e:\\users\\panst\\onedrive\\pulpit\\python\\lib\\site-packages (from scikit-fingerprints) (2.0.6)\n",
      "Requirement already satisfied: numpy<2.0.0,>=1.20.0 in e:\\users\\panst\\onedrive\\pulpit\\python\\lib\\site-packages (from scikit-fingerprints) (1.26.4)\n",
      "Requirement already satisfied: pandas in e:\\users\\panst\\onedrive\\pulpit\\python\\lib\\site-packages (from scikit-fingerprints) (2.2.3)\n",
      "Requirement already satisfied: rdkit<=2024.3.3 in e:\\users\\panst\\onedrive\\pulpit\\python\\lib\\site-packages (from scikit-fingerprints) (2024.3.3)\n",
      "Requirement already satisfied: scikit-learn in e:\\users\\panst\\onedrive\\pulpit\\python\\lib\\site-packages (from scikit-fingerprints) (1.5.2)\n",
      "Requirement already satisfied: scipy in c:\\users\\panst\\appdata\\roaming\\python\\python311\\site-packages (from scikit-fingerprints) (1.10.1)\n",
      "Requirement already satisfied: tqdm in e:\\users\\panst\\onedrive\\pulpit\\python\\lib\\site-packages (from scikit-fingerprints) (4.66.5)\n",
      "Requirement already satisfied: Pillow in c:\\users\\panst\\appdata\\roaming\\python\\python311\\site-packages (from rdkit<=2024.3.3->scikit-fingerprints) (9.4.0)\n",
      "Requirement already satisfied: pandas-flavor in e:\\users\\panst\\onedrive\\pulpit\\python\\lib\\site-packages (from descriptastorus->scikit-fingerprints) (0.6.0)\n",
      "Requirement already satisfied: mmh3>=2.3.1 in e:\\users\\panst\\onedrive\\pulpit\\python\\lib\\site-packages (from e3fp->scikit-fingerprints) (5.0.0)\n",
      "Requirement already satisfied: sdaxen-python-utilities>=0.1.5 in e:\\users\\panst\\onedrive\\pulpit\\python\\lib\\site-packages (from e3fp->scikit-fingerprints) (0.1.5)\n",
      "Requirement already satisfied: smart-open>=1.8.3 in e:\\users\\panst\\onedrive\\pulpit\\python\\lib\\site-packages (from e3fp->scikit-fingerprints) (6.4.0)\n",
      "Requirement already satisfied: filelock in e:\\users\\panst\\onedrive\\pulpit\\python\\lib\\site-packages (from huggingface_hub->scikit-fingerprints) (3.15.4)\n",
      "Requirement already satisfied: fsspec>=2023.5.0 in e:\\users\\panst\\onedrive\\pulpit\\python\\lib\\site-packages (from huggingface_hub->scikit-fingerprints) (2024.3.1)\n",
      "Requirement already satisfied: packaging>=20.9 in e:\\users\\panst\\onedrive\\pulpit\\python\\lib\\site-packages (from huggingface_hub->scikit-fingerprints) (24.1)\n",
      "Requirement already satisfied: pyyaml>=5.1 in e:\\users\\panst\\onedrive\\pulpit\\python\\lib\\site-packages (from huggingface_hub->scikit-fingerprints) (6.0.1)\n",
      "Requirement already satisfied: requests in e:\\users\\panst\\onedrive\\pulpit\\python\\lib\\site-packages (from huggingface_hub->scikit-fingerprints) (2.32.3)\n",
      "Requirement already satisfied: typing-extensions>=3.7.4.3 in e:\\users\\panst\\onedrive\\pulpit\\python\\lib\\site-packages (from huggingface_hub->scikit-fingerprints) (4.11.0)\n",
      "Requirement already satisfied: colorama in e:\\users\\panst\\onedrive\\pulpit\\python\\lib\\site-packages (from tqdm->scikit-fingerprints) (0.4.6)\n",
      "Requirement already satisfied: six in c:\\users\\panst\\appdata\\roaming\\python\\python311\\site-packages (from mordredcommunity->scikit-fingerprints) (1.16.0)\n",
      "Requirement already satisfied: networkx in e:\\users\\panst\\onedrive\\pulpit\\python\\lib\\site-packages (from mordredcommunity->scikit-fingerprints) (3.3)\n",
      "Requirement already satisfied: python-dateutil>=2.8.2 in c:\\users\\panst\\appdata\\roaming\\python\\python311\\site-packages (from pandas->scikit-fingerprints) (2.8.2)\n",
      "Requirement already satisfied: pytz>=2020.1 in c:\\users\\panst\\appdata\\roaming\\python\\python311\\site-packages (from pandas->scikit-fingerprints) (2023.3)\n",
      "Requirement already satisfied: tzdata>=2022.7 in c:\\users\\panst\\appdata\\roaming\\python\\python311\\site-packages (from pandas->scikit-fingerprints) (2023.3)\n",
      "Requirement already satisfied: threadpoolctl>=3.1.0 in c:\\users\\panst\\appdata\\roaming\\python\\python311\\site-packages (from scikit-learn->scikit-fingerprints) (3.1.0)\n",
      "Requirement already satisfied: xarray in e:\\users\\panst\\onedrive\\pulpit\\python\\lib\\site-packages (from pandas-flavor->descriptastorus->scikit-fingerprints) (2024.9.0)\n",
      "Requirement already satisfied: charset-normalizer<4,>=2 in e:\\users\\panst\\onedrive\\pulpit\\python\\lib\\site-packages (from requests->huggingface_hub->scikit-fingerprints) (3.3.2)\n",
      "Requirement already satisfied: idna<4,>=2.5 in e:\\users\\panst\\onedrive\\pulpit\\python\\lib\\site-packages (from requests->huggingface_hub->scikit-fingerprints) (3.7)\n",
      "Requirement already satisfied: urllib3<3,>=1.21.1 in e:\\users\\panst\\onedrive\\pulpit\\python\\lib\\site-packages (from requests->huggingface_hub->scikit-fingerprints) (2.2.2)\n",
      "Requirement already satisfied: certifi>=2017.4.17 in e:\\users\\panst\\onedrive\\pulpit\\python\\lib\\site-packages (from requests->huggingface_hub->scikit-fingerprints) (2024.7.4)\n"
     ]
    },
    {
     "name": "stderr",
     "output_type": "stream",
     "text": [
      "\n",
      "[notice] A new release of pip is available: 24.2 -> 24.3.1\n",
      "[notice] To update, run: python.exe -m pip install --upgrade pip\n"
     ]
    },
    {
     "name": "stdout",
     "output_type": "stream",
     "text": [
      "Requirement already satisfied: rdkit in e:\\users\\panst\\onedrive\\pulpit\\python\\lib\\site-packages (2024.3.3)\n",
      "Requirement already satisfied: numpy<2.0 in e:\\users\\panst\\onedrive\\pulpit\\python\\lib\\site-packages (from rdkit) (1.26.4)\n",
      "Requirement already satisfied: Pillow in c:\\users\\panst\\appdata\\roaming\\python\\python311\\site-packages (from rdkit) (9.4.0)\n"
     ]
    },
    {
     "name": "stderr",
     "output_type": "stream",
     "text": [
      "\n",
      "[notice] A new release of pip is available: 24.2 -> 24.3.1\n",
      "[notice] To update, run: python.exe -m pip install --upgrade pip\n"
     ]
    }
   ],
   "source": [
    "!pip install scikit-fingerprints\n",
    "!pip install rdkit"
   ]
  },
  {
   "cell_type": "markdown",
   "metadata": {},
   "source": [
    "Przydatne linki:\n",
    "\n",
    "1.https://scikit-fingerprints.github.io/scikit-fingerprints/index.html <- dokumentacja biblioteki Scikit-Fingerprints,\n",
    "\n",
    "2.https://www.rdkit.org/docs/ <- Dokumentacja biblioteki RDKit, która umożliwi wykonanie wizualizacji,\n",
    "\n",
    "3.https://pubchem.ncbi.nlm.nih.gov/ <- PubChem, bodaj największe otwarte źródło informacji o cząsteczkach chemicznych,"
   ]
  },
  {
   "cell_type": "markdown",
   "metadata": {},
   "source": [
    "Format SMILES"
   ]
  },
  {
   "cell_type": "markdown",
   "metadata": {},
   "source": [
    "SMILES to format sposób zapisywania struktury cząsteczek chemicznych w postaci ciągu znaków ASCII, znajdujący zastosowanie w chemii obliczeniowej czy bioinformatyce."
   ]
  },
  {
   "cell_type": "markdown",
   "metadata": {},
   "source": [
    "W formacie SMILES pierwiastki są oznaczane [X], gdzie X to symbol pierwiastka z układu okresowego.\n",
    "\n",
    "Wyjątkami od powyższego są symbole C i O, które domyślnie oznaczają metan i wodę.\n",
    "\n",
    "Pierwiastki organiczne (https://pl.wikipedia.org/wiki/Pierwiastki_biofilne) można zapisać bez nawiasów kwadratowych.\n",
    "\n",
    "Gdy między symbolami nie występują żadne znaki, to oznacza to, że są one połączone wiązanie pojedycznym. Wiązania podwójne i potrójne oznacza się kolejno symbolami = i #.\n",
    "\n",
    "Rozgałęzienia struktur oznacza się przy pomocy nawiasów okrągłych.\n",
    "\n",
    "Do zapisu układów cyklicznych używa się małych liter."
   ]
  },
  {
   "cell_type": "markdown",
   "metadata": {},
   "source": []
  },
  {
   "cell_type": "markdown",
   "metadata": {},
   "source": [
    "Zadanie 1"
   ]
  },
  {
   "cell_type": "markdown",
   "metadata": {},
   "source": [
    "Zilustrujmy powyższe reguły zapisu w formacie SMILES przedstawiając związki chemiczne w postaci grafów. W tym celu będziemy potrzebować biblioteki RDKit, która zapewnie narzędzia potrzebne do wizualizacji. Potrzebne do zadania SMILESy możesz znaleźć na stronie https://pubchem.ncbi.nlm.nih.gov/"
   ]
  },
  {
   "cell_type": "code",
   "execution_count": 6,
   "metadata": {},
   "outputs": [
    {
     "name": "stderr",
     "output_type": "stream",
     "text": [
      "<frozen importlib._bootstrap>:241: RuntimeWarning: to-Python converter for class boost::shared_ptr<class RDKit::FilterMatcherBase> already registered; second conversion method ignored.\n"
     ]
    }
   ],
   "source": [
    "from rdkit import Chem\n",
    "from rdkit.Chem import Draw, Mol\n",
    "from skfp.preprocessing.mol_to_from_smiles import MolFromSmiles"
   ]
  },
  {
   "cell_type": "code",
   "execution_count": 3,
   "metadata": {},
   "outputs": [],
   "source": [
    "# TODO: Znajdź w serwisie PubChem (lub dowolonym innym) SMILES podanych poniżej związków z różnymi rodzajami wiązań, rozgałęzieniami a także związków cyklicznych.\n",
    "smiles_list: list[str] = [\"C\", # Metan (Methane)\n",
    "                          \"O=C=O\", # TODO: Dwutlenek węgla (Carbon dioxide)\n",
    "                          \"C#C\", # TODO: Acetylen (Acetylene)\n",
    "                          \"CC(=O)O\", # TODO: Kwas octowy (Acetic acid)\n",
    "                          \"c1ccccc1\"] # TODO: Benzen (Benzene)"
   ]
  },
  {
   "cell_type": "code",
   "execution_count": 16,
   "metadata": {},
   "outputs": [],
   "source": [
    "# Mając gotowe SMILESy powinniśmy przekonwertować jest do molekuł, reprezentowanych przez obiekt Mol\n",
    "mols_list: list[Mol] = []\n",
    "for smiles in smiles_list:\n",
    "    mols_list.append(MolFromSmiles(smiles)) # TODO"
   ]
  },
  {
   "cell_type": "code",
   "execution_count": 17,
   "metadata": {},
   "outputs": [],
   "source": [
    "# Teraz możemy przyjrzeć się grafom reprezentującym poszczególne molekuły\n",
    "for mol in mols_list:\n",
    "    image = Draw.MolToImage(mol)\n",
    "    image.show()"
   ]
  },
  {
   "cell_type": "markdown",
   "metadata": {},
   "source": [
    "Jupyter pozwala bezpośrednio wyświetlać molekuły"
   ]
  },
  {
   "cell_type": "code",
   "execution_count": 10,
   "metadata": {},
   "outputs": [
    {
     "data": {
      "image/png": "[encoded data removed]",
      "text/plain": [
       "<rdkit.Chem.rdchem.Mol at 0x1206082c0b0>"
      ]
     },
     "execution_count": 10,
     "metadata": {},
     "output_type": "execute_result"
    }
   ],
   "source": [
    "mols_list[0]"
   ]
  },
  {
   "cell_type": "code",
   "execution_count": 11,
   "metadata": {},
   "outputs": [
    {
     "data": {
      "image/png": "[encoded data removed]",
      "text/plain": [
       "<rdkit.Chem.rdchem.Mol at 0x1206082c120>"
      ]
     },
     "execution_count": 11,
     "metadata": {},
     "output_type": "execute_result"
    }
   ],
   "source": [
    "mols_list[1]"
   ]
  },
  {
   "cell_type": "code",
   "execution_count": 12,
   "metadata": {},
   "outputs": [
    {
     "data": {
      "image/png": "[encoded data removed]",
      "text/plain": [
       "<rdkit.Chem.rdchem.Mol at 0x1206082c190>"
      ]
     },
     "execution_count": 12,
     "metadata": {},
     "output_type": "execute_result"
    }
   ],
   "source": [
    "mols_list[2]"
   ]
  },
  {
   "cell_type": "code",
   "execution_count": 13,
   "metadata": {},
   "outputs": [
    {
     "data": {
      "image/png": "[encoded data removed]",
      "text/plain": [
       "<rdkit.Chem.rdchem.Mol at 0x1206082c200>"
      ]
     },
     "execution_count": 13,
     "metadata": {},
     "output_type": "execute_result"
    }
   ],
   "source": [
    "mols_list[3]"
   ]
  },
  {
   "cell_type": "code",
   "execution_count": 14,
   "metadata": {},
   "outputs": [
    {
     "data": {
      "image/png": "[encoded data removed]",
      "text/plain": [
       "<rdkit.Chem.rdchem.Mol at 0x1206082c270>"
      ]
     },
     "execution_count": 14,
     "metadata": {},
     "output_type": "execute_result"
    }
   ],
   "source": [
    "mols_list[4]"
   ]
  },
  {
   "cell_type": "markdown",
   "metadata": {},
   "source": [
    "Zadanie 2"
   ]
  },
  {
   "cell_type": "markdown",
   "metadata": {},
   "source": [
    "Teraz wyświetlmy poszczególne atomy, z których składają się związki powyżej"
   ]
  },
  {
   "cell_type": "code",
   "execution_count": null,
   "metadata": {},
   "outputs": [
    {
     "ename": "IndentationError",
     "evalue": "expected an indented block after 'for' statement on line 2 (3139017429.py, line 4)",
     "output_type": "error",
     "traceback": [
      "\u001b[1;36m  Cell \u001b[1;32mIn[1], line 4\u001b[1;36m\u001b[0m\n\u001b[1;33m    print(f\"{atom.GetIdx():2}\", atom.GetAtomicNum(), atom.GetSymbol())\u001b[0m\n\u001b[1;37m    ^\u001b[0m\n\u001b[1;31mIndentationError\u001b[0m\u001b[1;31m:\u001b[0m expected an indented block after 'for' statement on line 2\n"
     ]
    }
   ],
   "source": [
    "def print_atom_info(mol):\n",
    "    for atom in mol.GetAtoms():\n",
    "        # TODO: Wyświetl symbole atomów wchodzących w skład podanej molekuł\n",
    "        print(atom.GetSymbol())"
   ]
  },
  {
   "cell_type": "code",
   "execution_count": null,
   "metadata": {},
   "outputs": [],
   "source": [
    "for mol in mols_list:\n",
    "    print_atom_info(mol)"
   ]
  },
  {
   "cell_type": "markdown",
   "metadata": {},
   "source": [
    "Zadanie 3"
   ]
  },
  {
   "cell_type": "markdown",
   "metadata": {},
   "source": [
    "Wyświetlmy rodzaje wiązań, które występują między atomami w związkach powyżej."
   ]
  },
  {
   "cell_type": "code",
   "execution_count": null,
   "metadata": {},
   "outputs": [],
   "source": [
    "def print_bond_info(mol):\n",
    "    for bond in mol.GetBonds():\n",
    "        # TODO: Wyświetl symbole atomów wchodzących w skład podanej molekuł\n",
    "        begin_atom = bond.GetBeginAtom()\n",
    "        end_atom = bond.GetEndAtom()\n",
    "        print(\n",
    "            begin_atom.GetSymbol(),\n",
    "            end_atom.GetSymbol(),\n",
    "            f\"{bond.GetBondType()}\",\n",
    "        )"
   ]
  },
  {
   "cell_type": "code",
   "execution_count": null,
   "metadata": {},
   "outputs": [],
   "source": [
    "for mol in mols_list:\n",
    "    print_bond_info(mol)"
   ]
  },
  {
   "cell_type": "markdown",
   "metadata": {},
   "source": [
    "Zadanie 4"
   ]
  },
  {
   "cell_type": "markdown",
   "metadata": {},
   "source": [
    "Wyświetlmy informacje o ilości pierścieni w cząsteczce benzenu."
   ]
  },
  {
   "cell_type": "code",
   "execution_count": null,
   "metadata": {},
   "outputs": [],
   "source": [
    "def get_ring_count(mol) -> int:\n",
    "    # TODO: Pobierz i zwróc informację o pierścieniach w cząsteczce\n",
    "    ring_info = mol.GetRingInfo()\n",
    "    \n",
    "    return ring_info.NumRings()"
   ]
  },
  {
   "cell_type": "code",
   "execution_count": null,
   "metadata": {},
   "outputs": [],
   "source": [
    "benzene_ring_count = get_ring_count()\n",
    "print(benzene_ring_count)"
   ]
  },
  {
   "cell_type": "code",
   "execution_count": null,
   "metadata": {},
   "outputs": [],
   "source": [
    "assert benzene_ring_count == 1"
   ]
  },
  {
   "cell_type": "markdown",
   "metadata": {},
   "source": [
    "W ten sposób możemy pozyskać proste deskryptory. Istnieje jednak o wiele więcej czynników, które przesądzają o właściwościach cząsteczki."
   ]
  },
  {
   "cell_type": "markdown",
   "metadata": {},
   "source": [
    "Deskryptory molekularne są kluczowe dla chemoinformatyki, za ich pomocą możemy na przykład filtrować zbiory danych w poszukiwaniu cząsteczek o interesujących właściwościach."
   ]
  },
  {
   "cell_type": "markdown",
   "metadata": {},
   "source": [
    "W celu obliczenia interesująćych nas wartości moglibyśmy ręcznie wykonywać operacje na obiektach reprezentujących cząsteczki. Na szczęście mamy warstwę abstrakcji, która ułatwi nam zadanie: \n",
    "\n",
    "https://www.rdkit.org/docs/source/rdkit.Chem.rdMolDescriptors.html"
   ]
  },
  {
   "cell_type": "code",
   "execution_count": 1,
   "metadata": {},
   "outputs": [],
   "source": [
    "from rdkit.Chem import rdMolDescriptors"
   ]
  },
  {
   "cell_type": "markdown",
   "metadata": {},
   "source": [
    "Zadanie 5"
   ]
  },
  {
   "cell_type": "markdown",
   "metadata": {},
   "source": [
    "Spróbujmy utworzyć dwa filtry molekularne, znane jako **Rule of Veber** i **Oprea**."
   ]
  },
  {
   "cell_type": "markdown",
   "metadata": {},
   "source": [
    "https://pubmed.ncbi.nlm.nih.gov/12036371/\n",
    "\n",
    "https://pubmed.ncbi.nlm.nih.gov/10756480/"
   ]
  },
  {
   "cell_type": "markdown",
   "metadata": {},
   "source": [
    "Rule of Veber wymaga zdefiniowania dwóch deskryptorów:\n",
    "- Ilości wiązań rotacyjnych (rotatble bonds),\n",
    "- Topological polar surface area (TPSA) https://en.wikipedia.org/wiki/Polar_surface_area,\n",
    "\n",
    "Rule of Oprea wymaga czterech deskryptorów:\n",
    "- Ilości dawców wiązań wodorowych (HBD), \n",
    "- Ilości akceptorów wiązań wodorowych (HBA), \n",
    "https://www.researchgate.net/figure/Hydrogen-bond-donor-HBD-and-hydrogen-bond-acceptor-HBA-sites-for-trizaole-Tz-left_fig5_346474495\n",
    "- Ilości wiązań rotacyjnych,\n",
    "- Ilości pierścieni\n",
    "\n",
    "W razie problemów można zajrzeć do repozytorium biblioteki **scikit-fingerprints**, która implementuje te i wiele innych filtrów.\n",
    "\n",
    "https://github.com/scikit-fingerprints/scikit-fingerprints/tree/master\n",
    "\n",
    "W ramach zadania przygotujemy znaczenie uproszczoną implementację, która pozwoli przedstawić regułę działania filtrów."
   ]
  },
  {
   "cell_type": "code",
   "execution_count": 20,
   "metadata": {},
   "outputs": [],
   "source": [
    "def would_pass_veber_rule(mol) -> bool:\n",
    "    # TODO\n",
    "    rules: list[bool] = [\n",
    "        rdMolDescriptors.CalcNumRotatableBonds(mol) <= 10, # Ilość wiązań rotacyjnych TODO\n",
    "        rdMolDescriptors.CalcTPSA(mol) <= 140 # TPSA TODO\n",
    "    ]\n",
    "\n",
    "    if not all(rules):\n",
    "        return False\n",
    "    else:\n",
    "        return True\n",
    "\n",
    "\n",
    "def would_pass_oprea_filter(mol) -> bool:\n",
    "    # TODO\n",
    "    rules: list[bool] = [\n",
    "        0 <= rdMolDescriptors.CalcNumHBD(mol) <= 2, # HBD TODO\n",
    "        2 <= rdMolDescriptors.CalcNumHBA(mol) <= 9, # HBA TODO\n",
    "        2 <= rdMolDescriptors.CalcNumRotatableBonds(mol) <= 8, # Ilość wiązań rotacyjnych TODO\n",
    "        1 <= rdMolDescriptors.CalcNumRings(mol) <= 4, # Ilość pierścieni TODO\n",
    "    ]\n",
    "\n",
    "    if not all(rules):\n",
    "        return False\n",
    "    else:\n",
    "        return True"
   ]
  },
  {
   "cell_type": "code",
   "execution_count": null,
   "metadata": {},
   "outputs": [],
   "source": [
    "veber_result: list[bool] = []\n",
    "smiles_for_veber: list[str] = [\n",
    "    \"[C-]#N\",\n",
    "    \"CC=O\",\n",
    "    \"CS(=O)(=O)CCNCC1=CC=C(O1)C2=CC3=C(C=C2)N=CN=C3NC4=CC(=C(C=C4)OCC5=CC(=CC=C5)F)Cl\"\n",
    "]\n",
    "\n",
    "for smiles in smiles_for_veber:\n",
    "    mol_for_veber = MolFromSmiles(smiles)\n",
    "    veber_result.append(would_pass_veber_rule(mol_for_veber))\n",
    "\n",
    "assert veber_result == [True, True, False]"
   ]
  },
  {
   "cell_type": "code",
   "execution_count": null,
   "metadata": {},
   "outputs": [],
   "source": []
  },
  {
   "cell_type": "markdown",
   "metadata": {},
   "source": [
    "Rzeczywiste implementacje często pozwalają na naruszenie jednej z reguł zawartych w filtrze. Spójrzmy na wyniki filtrowania przy pomocy scikit-fingerprints."
   ]
  },
  {
   "cell_type": "markdown",
   "metadata": {},
   "source": []
  }
 ],
 "metadata": {
  "kernelspec": {
   "display_name": "Python 3",
   "language": "python",
   "name": "python3"
  },
  "language_info": {
   "codemirror_mode": {
    "name": "ipython",
    "version": 3
   },
   "file_extension": ".py",
   "mimetype": "text/x-python",
   "name": "python",
   "nbconvert_exporter": "python",
   "pygments_lexer": "ipython3",
   "version": "3.11.4"
  }
 },
 "nbformat": 4,
 "nbformat_minor": 2
}
