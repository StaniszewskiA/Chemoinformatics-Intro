{
 "cells": [
  {
   "cell_type": "code",
   "execution_count": null,
   "metadata": {},
   "outputs": [],
   "source": [
    "!pip install -r requirements.txt"
   ]
  },
  {
   "cell_type": "markdown",
   "metadata": {},
   "source": [
    "Przydatne linki:\n",
    "\n",
    "1.https://scikit-fingerprints.github.io/scikit-fingerprints/index.html <- dokumentacja biblioteki Scikit-Fingerprints,\n",
    "\n",
    "2.https://www.rdkit.org/docs/ <- Dokumentacja biblioteki RDKit, która umożliwi wykonanie wizualizacji,\n",
    "\n",
    "3.https://pubchem.ncbi.nlm.nih.gov/ <- PubChem, bodaj największe otwarte źródło informacji o cząsteczkach chemicznych,"
   ]
  },
  {
   "cell_type": "markdown",
   "metadata": {},
   "source": [
    "Format SMILES"
   ]
  },
  {
   "cell_type": "markdown",
   "metadata": {},
   "source": [
    "SMILES to format sposób zapisywania struktury cząsteczek chemicznych w postaci ciągu znaków ASCII, znajdujący zastosowanie w chemii obliczeniowej czy bioinformatyce."
   ]
  },
  {
   "cell_type": "markdown",
   "metadata": {},
   "source": [
    "W formacie SMILES pierwiastki są oznaczane [X], gdzie X to symbol pierwiastka z układu okresowego.\n",
    "\n",
    "Wyjątkami od powyższego są symbole C i O, które domyślnie oznaczają metan i wodę.\n",
    "\n",
    "Pierwiastki organiczne (https://pl.wikipedia.org/wiki/Pierwiastki_biofilne) można zapisać bez nawiasów kwadratowych.\n",
    "\n",
    "Gdy między symbolami nie występują żadne znaki, to oznacza to, że są one połączone wiązanie pojedycznym. Wiązania podwójne i potrójne oznacza się kolejno symbolami = i #.\n",
    "\n",
    "Rozgałęzienia struktur oznacza się przy pomocy nawiasów okrągłych.\n",
    "\n",
    "Do zapisu układów cyklicznych używa się małych liter."
   ]
  },
  {
   "cell_type": "markdown",
   "metadata": {},
   "source": [
    "Zadanie 1"
   ]
  },
  {
   "cell_type": "markdown",
   "metadata": {},
   "source": [
    "Zilustrujmy powyższe reguły zapisu w formacie SMILES przedstawiając związki chemiczne w postaci grafów. W tym celu będziemy potrzebować biblioteki RDKit, która zapewnie narzędzia potrzebne do wizualizacji. Potrzebne do zadania SMILESy możesz znaleźć na stronie https://pubchem.ncbi.nlm.nih.gov/"
   ]
  },
  {
   "cell_type": "code",
   "execution_count": null,
   "metadata": {},
   "outputs": [],
   "source": [
    "from rdkit import Chem\n",
    "from rdkit.Chem import Draw, Mol\n",
    "from skfp.preprocessing.mol_to_from_smiles import MolFromSmiles"
   ]
  },
  {
   "cell_type": "code",
   "execution_count": null,
   "metadata": {},
   "outputs": [],
   "source": [
    "# TODO: Znajdź w serwisie PubChem (lub dowolonym innym) SMILES podanych poniżej związków z różnymi rodzajami wiązań, rozgałęzieniami a także związków cyklicznych.\n",
    "smiles_list: list[str] = [\"\", # Metan (Methane)\n",
    "                          \"\", # TODO: Dwutlenek węgla (Carbon dioxide)\n",
    "                          \"\", # TODO: Acetylen (Acetylene)\n",
    "                          \"\", # TODO: Kwas octowy (Acetic acid)\n",
    "                          \"\"] # TODO: Benzen (Benzene)"
   ]
  },
  {
   "cell_type": "code",
   "execution_count": null,
   "metadata": {},
   "outputs": [],
   "source": [
    "# Mając gotowe SMILESy powinniśmy przekonwertować jest do molekuł, reprezentowanych przez obiekt Mol\n",
    "mols_list: list[Mol] = []\n",
    "for smiles in smiles_list:\n",
    "    # TODO\n",
    "    pass"
   ]
  },
  {
   "cell_type": "code",
   "execution_count": null,
   "metadata": {},
   "outputs": [],
   "source": [
    "# Teraz możemy przyjrzeć się grafom reprezentującym poszczególne molekuły\n",
    "# UWAGA - metoda Draw z pakietu rdKit prawdopodobnie będzie chciała otworzyć osobne okno z plikiem\n",
    "for mol in mols_list:\n",
    "    # TODO\n",
    "    pass"
   ]
  },
  {
   "cell_type": "markdown",
   "metadata": {},
   "source": [
    "Jupyter pozwala bezpośrednio wyświetlać molekuły"
   ]
  },
  {
   "cell_type": "code",
   "execution_count": null,
   "metadata": {},
   "outputs": [],
   "source": [
    "mols_list[0]"
   ]
  },
  {
   "cell_type": "code",
   "execution_count": null,
   "metadata": {},
   "outputs": [],
   "source": [
    "mols_list[1]"
   ]
  },
  {
   "cell_type": "code",
   "execution_count": null,
   "metadata": {},
   "outputs": [],
   "source": [
    "mols_list[2]"
   ]
  },
  {
   "cell_type": "code",
   "execution_count": null,
   "metadata": {},
   "outputs": [],
   "source": [
    "mols_list[3]"
   ]
  },
  {
   "cell_type": "code",
   "execution_count": null,
   "metadata": {},
   "outputs": [],
   "source": [
    "mols_list[4]"
   ]
  },
  {
   "cell_type": "markdown",
   "metadata": {},
   "source": [
    "Zadanie 2"
   ]
  },
  {
   "cell_type": "markdown",
   "metadata": {},
   "source": [
    "Teraz wyświetlmy poszczególne atomy, z których składają się związki powyżej."
   ]
  },
  {
   "cell_type": "code",
   "execution_count": null,
   "metadata": {},
   "outputs": [],
   "source": [
    "def print_atom_info(mol):\n",
    "    # TODO\n",
    "    pass"
   ]
  },
  {
   "cell_type": "code",
   "execution_count": null,
   "metadata": {},
   "outputs": [],
   "source": [
    "for mol in mols_list:\n",
    "    print_atom_info(mol)"
   ]
  },
  {
   "cell_type": "markdown",
   "metadata": {},
   "source": [
    "Zadanie 3"
   ]
  },
  {
   "cell_type": "markdown",
   "metadata": {},
   "source": [
    "Wyświetlmy rodzaje wiązań, które występują między atomami w związkach powyżej."
   ]
  },
  {
   "cell_type": "code",
   "execution_count": null,
   "metadata": {},
   "outputs": [],
   "source": [
    "def print_bond_info(mol):\n",
    "    # TODO: Wyświetl informacje o wiązaniach wchodzących w skład podanej molekuły\n",
    "    pass"
   ]
  },
  {
   "cell_type": "code",
   "execution_count": null,
   "metadata": {},
   "outputs": [],
   "source": [
    "for mol in mols_list:\n",
    "    print_bond_info(mol)"
   ]
  },
  {
   "cell_type": "markdown",
   "metadata": {},
   "source": [
    "Zadanie 4"
   ]
  },
  {
   "cell_type": "markdown",
   "metadata": {},
   "source": [
    "Wyświetlmy informacje o ilości pierścieni w cząsteczce benzenu."
   ]
  },
  {
   "cell_type": "code",
   "execution_count": null,
   "metadata": {},
   "outputs": [],
   "source": [
    "def get_ring_count(mol) -> int:\n",
    "    # TODO: Pobierz i zwróc informację o pierścieniach w cząsteczce\n",
    "    pass"
   ]
  },
  {
   "cell_type": "code",
   "execution_count": null,
   "metadata": {},
   "outputs": [],
   "source": [
    "benzene_smiles = \"\" # TODO\n",
    "benzene_smiles = MolFromSmiles(benzene_smiles)\n",
    "\n",
    "benzene_ring_count = get_ring_count(benzene_smiles)\n",
    "print(benzene_ring_count)"
   ]
  },
  {
   "cell_type": "code",
   "execution_count": null,
   "metadata": {},
   "outputs": [],
   "source": [
    "assert benzene_ring_count == 1"
   ]
  },
  {
   "cell_type": "markdown",
   "metadata": {},
   "source": [
    "W ten sposób możemy pozyskać proste deskryptory. Istnieje jednak o wiele więcej czynników, które przesądzają o właściwościach cząsteczki."
   ]
  },
  {
   "cell_type": "markdown",
   "metadata": {},
   "source": [
    "Deskryptory molekularne są kluczowe dla chemoinformatyki, za ich pomocą możemy na przykład filtrować zbiory danych w poszukiwaniu cząsteczek o interesujących właściwościach."
   ]
  },
  {
   "cell_type": "markdown",
   "metadata": {},
   "source": [
    "W celu obliczenia wartości interesujących nas deskryptorów moglibyśmy ręcznie wykonywać operacje na obiektach reprezentujących cząsteczki. Na szczęście mamy warstwę abstrakcji, która ułatwi nam zadanie: \n",
    "\n",
    "https://www.rdkit.org/docs/source/rdkit.Chem.rdMolDescriptors.html"
   ]
  },
  {
   "cell_type": "code",
   "execution_count": null,
   "metadata": {},
   "outputs": [],
   "source": [
    "from rdkit.Chem import Crippen, rdMolDescriptors"
   ]
  },
  {
   "cell_type": "markdown",
   "metadata": {},
   "source": [
    "Zadanie 5"
   ]
  },
  {
   "cell_type": "markdown",
   "metadata": {},
   "source": [
    "Spróbujmy utworzyć trzy filtry molekularne, znane jako **GSK**, **Rule of Veber** i **Oprea**."
   ]
  },
  {
   "cell_type": "markdown",
   "metadata": {},
   "source": [
    "https://pubs.acs.org/doi/10.1021/jm701122q\n",
    "\n",
    "https://pubmed.ncbi.nlm.nih.gov/12036371/\n",
    "\n",
    "https://pubmed.ncbi.nlm.nih.gov/10756480/"
   ]
  },
  {
   "cell_type": "markdown",
   "metadata": {},
   "source": [
    "Filtr GSK wymaga zdefiniowania dwóch deskryptorów:\n",
    "- Masy molowej cząsteczki, https://pl.wikipedia.org/wiki/Masa_molowa\n",
    "- logP https://pl.wikipedia.org/wiki/Wsp%C3%B3%C5%82czynnik_podzia%C5%82u, https://www.rdkit.org/docs/source/rdkit.Chem.Crippen.html\n",
    "\n",
    "Rule of Veber też używa dwóch reguł:\n",
    "- Ilości wiązań rotacyjnych (rotatble bonds),\n",
    "- Topological polar surface area (TPSA) https://en.wikipedia.org/wiki/Polar_surface_area,\n",
    "\n",
    "Rule of Oprea wymaga czterech deskryptorów:\n",
    "- Ilości dawców wiązań wodorowych (HBD), \n",
    "- Ilości akceptorów wiązań wodorowych (HBA), \n",
    "https://www.researchgate.net/figure/Hydrogen-bond-donor-HBD-and-hydrogen-bond-acceptor-HBA-sites-for-trizaole-Tz-left_fig5_346474495\n",
    "- Ilości wiązań rotacyjnych,\n",
    "- Ilości pierścieni\n",
    "\n",
    "W razie problemów można zajrzeć do repozytorium biblioteki **scikit-fingerprints**, która implementuje te i wiele innych filtrów.\n",
    "\n",
    "https://github.com/scikit-fingerprints/scikit-fingerprints/tree/master\n",
    "\n",
    "W ramach zadania przygotujemy znaczenie uproszczoną implementację, która pozwoli przedstawić regułę działania filtrów."
   ]
  },
  {
   "cell_type": "code",
   "execution_count": null,
   "metadata": {},
   "outputs": [],
   "source": [
    "def would_pass_gsk_filter(mol: Mol) -> bool:\n",
    "    # TODO\n",
    "    rules: list[bool] = [\n",
    "        # Masa molowa TODO\n",
    "        # logP TODO\n",
    "    ]\n",
    "\n",
    "    pass\n",
    "\n",
    "def would_pass_veber_rule(mol: Mol) -> bool:\n",
    "    # TODO\n",
    "    rules: list[bool] = [\n",
    "        # Ilość wiązań rotacyjnych TODO\n",
    "        # TPSA TODO\n",
    "    ]\n",
    "\n",
    "    pass\n",
    "\n",
    "def would_pass_oprea_filter(mol: Mol) -> bool:\n",
    "    # TODO\n",
    "    rules: list[bool] = [\n",
    "        # HBD TODO\n",
    "        # HBA TODO\n",
    "        # Ilość wiązań rotacyjnych TODO\n",
    "        # Ilość pierścieni TODO\n",
    "    ]\n",
    "\n",
    "    pass"
   ]
  },
  {
   "cell_type": "code",
   "execution_count": null,
   "metadata": {},
   "outputs": [],
   "source": [
    "gsk_results: list[bool] = []\n",
    "smiles_for_gsk: list[str] = [\n",
    "    \"C1CC1N2C=C(C(=O)C3=CC(=C(C=C32)N4CCNCC4)F)C(=O)O\", # Ciprofloxacin\n",
    "    \"CC(=O)CC(C1=CC=CC=C1)C2=C(C3=CC=CC=C3OC2=O)O\", # Warfarin \n",
    "    r\"CN1C(=NC(=O)C(=O)N1)SCC2=C(N3[C@@H]([C@@H](C3=O)NC(=O)/C(=N\\OC)/C4=CSC(=N4)N)SC2)C(=O)O\", # Ceftriaxone\n",
    "]\n",
    "\n",
    "for smiles in smiles_for_gsk:\n",
    "    # TODO przekonwertuj SMILESy do Moli, wywołaj odpowiednią metodę i dodaj wynik do list\n",
    "    pass"
   ]
  },
  {
   "cell_type": "code",
   "execution_count": null,
   "metadata": {},
   "outputs": [],
   "source": [
    "veber_results: list[bool] = []\n",
    "smiles_for_veber: list[str] = [\n",
    "    \"[C-]#N\", # Cyanide\n",
    "    \"CC=O\", # Acetaldehyde\n",
    "    \"CS(=O)(=O)CCNCC1=CC=C(O1)C2=CC3=C(C=C2)N=CN=C3NC4=CC(=C(C=C4)OCC5=CC(=CC=C5)F)Cl\"\n",
    "]\n",
    "\n",
    "for smiles in smiles_for_veber:\n",
    "    # TODO przekonwertuj SMILEsy do Moli, wywołaj odpowiednią metodę i dodaj wynik do list\n",
    "    pass"
   ]
  },
  {
   "cell_type": "code",
   "execution_count": null,
   "metadata": {},
   "outputs": [],
   "source": [
    "oprea_results: list[bool] = []\n",
    "smiles_for_oprea: list[str] = [\n",
    "    \"C1CC1N2C=C(C(=O)C3=CC(=C(C=C32)N4CCNCC4)F)C(=O)O\",  # Ciprofloxacin\n",
    "    \"CC(=O)CC(C1=CC=CC=C1)C2=C(C3=CC=CC=C3OC2=O)O\",  # Warfarin\n",
    "    \"CC(=O)Nc1ccc(O)cc1\",  # Paracetamol\n",
    "]\n",
    "\n",
    "for smiles in smiles_for_veber:\n",
    "    # TODO przekonwertuj SMILEsy do Moli, wywołaj odpowiednią metodę i dodaj wynik do list\n",
    "    pass"
   ]
  },
  {
   "cell_type": "code",
   "execution_count": null,
   "metadata": {},
   "outputs": [],
   "source": [
    "assert gsk_results == [True, True, False]\n",
    "assert veber_results == [True, True, False]\n",
    "assert oprea_results == [True, True, False]"
   ]
  },
  {
   "cell_type": "markdown",
   "metadata": {},
   "source": [
    "Zadanie 6"
   ]
  },
  {
   "cell_type": "markdown",
   "metadata": {},
   "source": [
    "Zmodyfikujmy wcześniej napisane metody, aby sprawdzić, które z reguł zostały złamane. Wyświetl wartości poszczególnych dekryptorów."
   ]
  },
  {
   "cell_type": "code",
   "execution_count": null,
   "metadata": {},
   "outputs": [],
   "source": [
    "def gsk_issues(mol: Mol) -> None:\n",
    "    # TODO skopiuj reguły z poprzedniego zadania\n",
    "    pass\n",
    "\n",
    "def veber_issues(mol) -> None:\n",
    "    # TODO skopiuj reguły z poprzedniego zadania\n",
    "    pass\n",
    "\n",
    "def oprea_issues(mol) -> None:\n",
    "    # TODO skopiuj reguły z poprzedniego zadania\n",
    "    pass"
   ]
  },
  {
   "cell_type": "code",
   "execution_count": null,
   "metadata": {},
   "outputs": [],
   "source": [
    "smiles_to_examine_gsk: list[str] = [\n",
    "    \"\",  # TODO: Dodaj do listy SMILES, który nie przeszedł przez filtr w poprzednim zadaniu\n",
    "]\n",
    "\n",
    "for smiles in smiles_to_examine_gsk:\n",
    "    # TODO przekonwertuj SMILEsy do Moli, wywołaj odpowiednią metodę i dodaj wynik do list\n",
    "    pass"
   ]
  },
  {
   "cell_type": "code",
   "execution_count": null,
   "metadata": {},
   "outputs": [],
   "source": [
    "smiles_to_examine_veber: list[str] = [\n",
    "    \"\",  # TODO: Dodaj do listy SMILES, który nie przeszedł przez filtr w poprzednim zadaniu\n",
    "]\n",
    "\n",
    "for smiles in smiles_to_examine_veber:\n",
    "    # TODO przekonwertuj SMILEsy do Moli, wywołaj odpowiednią metodę i dodaj wynik do list\n",
    "    pass"
   ]
  },
  {
   "cell_type": "code",
   "execution_count": null,
   "metadata": {},
   "outputs": [],
   "source": [
    "smiles_to_examine_oprea: list[str] = [\n",
    "    \"\",  # TODO: Dodaj do listy SMILES, który nie przeszedł przez filtr w poprzednim zadaniu\n",
    "]\n",
    "\n",
    "for smiles in smiles_to_examine_oprea:\n",
    "    # TODO przekonwertuj SMILEsy do Moli, wywołaj odpowiednią metodę i dodaj wynik do list\n",
    "    pass"
   ]
  },
  {
   "cell_type": "markdown",
   "metadata": {},
   "source": [
    "TODO:\n",
    "\n",
    "Które reguły zostały złamane w poszczególnych przypadkach?"
   ]
  },
  {
   "cell_type": "markdown",
   "metadata": {},
   "source": [
    "Rzeczywiste implementacje często pozwalają na naruszenie jednej z reguł zawartych w filtrze. Zmodyfikujmy powyższe filtry tak, aby umożliwiały złamanie jednej z reguł."
   ]
  },
  {
   "cell_type": "code",
   "execution_count": null,
   "metadata": {},
   "outputs": [],
   "source": [
    "def would_pass_gsk_filter(mol: Mol, allow_one_fail: bool) -> bool:\n",
    "    # TODO\n",
    "    pass\n",
    "\n",
    "def would_pass_veber_rule(mol: Mol, allow_one_fail: bool) -> bool:\n",
    "    # TODO\n",
    "    pass\n",
    "\n",
    "\n",
    "def would_pass_oprea_filter(mol: Mol, allow_one_fail: bool) -> bool:\n",
    "    # TODO\n",
    "    pass"
   ]
  },
  {
   "cell_type": "code",
   "execution_count": null,
   "metadata": {},
   "outputs": [],
   "source": [
    "gsk_results: list[bool] = []\n",
    "smiles_for_gsk: list[str] = [\n",
    "    \"C1CC1N2C=C(C(=O)C3=CC(=C(C=C32)N4CCNCC4)F)C(=O)O\", # Ciprofloxacin\n",
    "    \"CC(=O)CC(C1=CC=CC=C1)C2=C(C3=CC=CC=C3OC2=O)O\", # Warfarin \n",
    "    r\"CN1C(=NC(=O)C(=O)N1)SCC2=C(N3[C@@H]([C@@H](C3=O)NC(=O)/C(=N\\OC)/C4=CSC(=N4)N)SC2)C(=O)O\", # Ceftriaxone\n",
    "]\n",
    "\n",
    "for smiles in smiles_for_gsk:\n",
    "    # TODO przekonwertuj SMILESy do Moli, wywołaj odpowiednią metodę i dodaj wynik do list\n",
    "    pass"
   ]
  },
  {
   "cell_type": "code",
   "execution_count": null,
   "metadata": {},
   "outputs": [],
   "source": [
    "veber_results: list[bool] = []\n",
    "smiles_for_veber: list[str] = [\n",
    "    \"[C-]#N\", # Cyanide\n",
    "    \"CC=O\", # Acetaldehyde\n",
    "    \"CS(=O)(=O)CCNCC1=CC=C(O1)C2=CC3=C(C=C2)N=CN=C3NC4=CC(=C(C=C4)OCC5=CC(=CC=C5)F)Cl\"\n",
    "]\n",
    "\n",
    "for smiles in smiles_for_veber:\n",
    "    # TODO przekonwertuj SMILEsy do Moli, wywołaj odpowiednią metodę i dodaj wynik do list\n",
    "    pass"
   ]
  },
  {
   "cell_type": "code",
   "execution_count": null,
   "metadata": {},
   "outputs": [],
   "source": [
    "oprea_results: list[bool] = []\n",
    "smiles_for_oprea: list[str] = [\n",
    "    \"C1CC1N2C=C(C(=O)C3=CC(=C(C=C32)N4CCNCC4)F)C(=O)O\",  # Ciprofloxacin\n",
    "    \"CC(=O)CC(C1=CC=CC=C1)C2=C(C3=CC=CC=C3OC2=O)O\",  # Warfarin\n",
    "    \"CC(=O)Nc1ccc(O)cc1\",  # Paracetamol\n",
    "]\n",
    "\n",
    "for smiles in smiles_for_veber:\n",
    "    # TODO przekonwertuj SMILEsy do Moli, wywołaj odpowiednią metodę i dodaj wynik do list\n",
    "    pass"
   ]
  },
  {
   "cell_type": "code",
   "execution_count": null,
   "metadata": {},
   "outputs": [],
   "source": [
    "assert gsk_results == [True, True, True]\n",
    "assert veber_results == [True, True, True]\n",
    "assert oprea_results == [True, True, True]"
   ]
  }
 ],
 "metadata": {
  "kernelspec": {
   "display_name": "Python 3",
   "language": "python",
   "name": "python3"
  },
  "language_info": {
   "codemirror_mode": {
    "name": "ipython",
    "version": 3
   },
   "file_extension": ".py",
   "mimetype": "text/x-python",
   "name": "python",
   "nbconvert_exporter": "python",
   "pygments_lexer": "ipython3",
   "version": "3.11.4"
  }
 },
 "nbformat": 4,
 "nbformat_minor": 2
}
