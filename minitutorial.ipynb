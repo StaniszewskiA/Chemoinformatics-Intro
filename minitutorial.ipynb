{
 "cells": [
  {
   "cell_type": "code",
   "execution_count": 38,
   "metadata": {},
   "outputs": [
    {
     "name": "stdout",
     "output_type": "stream",
     "text": [
      "Collecting jupyter (from -r requirements.txt (line 1))\n",
      "  Downloading jupyter-1.1.1-py2.py3-none-any.whl.metadata (2.0 kB)\n",
      "Requirement already satisfied: matplotlib in e:\\users\\panst\\onedrive\\pulpit\\python\\lib\\site-packages (from -r requirements.txt (line 2)) (3.8.3)\n",
      "Requirement already satisfied: pandas in e:\\users\\panst\\onedrive\\pulpit\\python\\lib\\site-packages (from -r requirements.txt (line 3)) (2.2.3)\n",
      "Requirement already satisfied: pyarrow in e:\\users\\panst\\onedrive\\pulpit\\python\\lib\\site-packages (from -r requirements.txt (line 4)) (17.0.0)\n",
      "Requirement already satisfied: scikit-fingerprints in e:\\users\\panst\\onedrive\\pulpit\\python\\lib\\site-packages (from -r requirements.txt (line 5)) (0.0.0)\n",
      "Requirement already satisfied: scikit-learn in e:\\users\\panst\\onedrive\\pulpit\\python\\lib\\site-packages (from -r requirements.txt (line 6)) (1.5.2)\n",
      "Requirement already satisfied: rdkit in e:\\users\\panst\\onedrive\\pulpit\\python\\lib\\site-packages (from -r requirements.txt (line 7)) (2024.3.3)\n",
      "Requirement already satisfied: notebook in c:\\users\\panst\\appdata\\roaming\\python\\python311\\site-packages (from jupyter->-r requirements.txt (line 1)) (7.2.2)\n",
      "Collecting jupyter-console (from jupyter->-r requirements.txt (line 1))\n",
      "  Downloading jupyter_console-6.6.3-py3-none-any.whl.metadata (5.8 kB)\n",
      "Requirement already satisfied: nbconvert in e:\\users\\panst\\onedrive\\pulpit\\python\\lib\\site-packages (from jupyter->-r requirements.txt (line 1)) (7.16.4)\n",
      "Requirement already satisfied: ipykernel in c:\\users\\panst\\appdata\\roaming\\python\\python311\\site-packages (from jupyter->-r requirements.txt (line 1)) (6.29.3)\n",
      "Collecting ipywidgets (from jupyter->-r requirements.txt (line 1))\n",
      "  Downloading ipywidgets-8.1.5-py3-none-any.whl.metadata (2.3 kB)\n",
      "Requirement already satisfied: jupyterlab in c:\\users\\panst\\appdata\\roaming\\python\\python311\\site-packages (from jupyter->-r requirements.txt (line 1)) (4.2.5)\n",
      "Requirement already satisfied: contourpy>=1.0.1 in e:\\users\\panst\\onedrive\\pulpit\\python\\lib\\site-packages (from matplotlib->-r requirements.txt (line 2)) (1.2.0)\n",
      "Requirement already satisfied: cycler>=0.10 in e:\\users\\panst\\onedrive\\pulpit\\python\\lib\\site-packages (from matplotlib->-r requirements.txt (line 2)) (0.12.1)\n",
      "Requirement already satisfied: fonttools>=4.22.0 in c:\\users\\panst\\appdata\\roaming\\python\\python311\\site-packages (from matplotlib->-r requirements.txt (line 2)) (4.39.4)\n",
      "Requirement already satisfied: kiwisolver>=1.3.1 in c:\\users\\panst\\appdata\\roaming\\python\\python311\\site-packages (from matplotlib->-r requirements.txt (line 2)) (1.4.4)\n",
      "Requirement already satisfied: numpy<2,>=1.21 in e:\\users\\panst\\onedrive\\pulpit\\python\\lib\\site-packages (from matplotlib->-r requirements.txt (line 2)) (1.26.4)\n",
      "Requirement already satisfied: packaging>=20.0 in e:\\users\\panst\\onedrive\\pulpit\\python\\lib\\site-packages (from matplotlib->-r requirements.txt (line 2)) (24.1)\n",
      "Requirement already satisfied: pillow>=8 in c:\\users\\panst\\appdata\\roaming\\python\\python311\\site-packages (from matplotlib->-r requirements.txt (line 2)) (9.4.0)\n",
      "Requirement already satisfied: pyparsing>=2.3.1 in c:\\users\\panst\\appdata\\roaming\\python\\python311\\site-packages (from matplotlib->-r requirements.txt (line 2)) (3.0.9)\n",
      "Requirement already satisfied: python-dateutil>=2.7 in c:\\users\\panst\\appdata\\roaming\\python\\python311\\site-packages (from matplotlib->-r requirements.txt (line 2)) (2.8.2)\n",
      "Requirement already satisfied: pytz>=2020.1 in c:\\users\\panst\\appdata\\roaming\\python\\python311\\site-packages (from pandas->-r requirements.txt (line 3)) (2023.3)\n",
      "Requirement already satisfied: tzdata>=2022.7 in c:\\users\\panst\\appdata\\roaming\\python\\python311\\site-packages (from pandas->-r requirements.txt (line 3)) (2023.3)\n",
      "Requirement already satisfied: datasketch in e:\\users\\panst\\onedrive\\pulpit\\python\\lib\\site-packages (from scikit-fingerprints->-r requirements.txt (line 5)) (1.6.5)\n",
      "Requirement already satisfied: descriptastorus in e:\\users\\panst\\onedrive\\pulpit\\python\\lib\\site-packages (from scikit-fingerprints->-r requirements.txt (line 5)) (2.6.1)\n",
      "Requirement already satisfied: e3fp in e:\\users\\panst\\onedrive\\pulpit\\python\\lib\\site-packages (from scikit-fingerprints->-r requirements.txt (line 5)) (1.2.5)\n",
      "Requirement already satisfied: huggingface_hub in e:\\users\\panst\\onedrive\\pulpit\\python\\lib\\site-packages (from scikit-fingerprints->-r requirements.txt (line 5)) (0.26.1)\n",
      "Requirement already satisfied: joblib in c:\\users\\panst\\appdata\\roaming\\python\\python311\\site-packages (from scikit-fingerprints->-r requirements.txt (line 5)) (1.2.0)\n",
      "Requirement already satisfied: mordredcommunity in e:\\users\\panst\\onedrive\\pulpit\\python\\lib\\site-packages (from scikit-fingerprints->-r requirements.txt (line 5)) (2.0.6)\n",
      "Requirement already satisfied: scipy in c:\\users\\panst\\appdata\\roaming\\python\\python311\\site-packages (from scikit-fingerprints->-r requirements.txt (line 5)) (1.10.1)\n",
      "Requirement already satisfied: tqdm in e:\\users\\panst\\onedrive\\pulpit\\python\\lib\\site-packages (from scikit-fingerprints->-r requirements.txt (line 5)) (4.66.5)\n",
      "Requirement already satisfied: threadpoolctl>=3.1.0 in c:\\users\\panst\\appdata\\roaming\\python\\python311\\site-packages (from scikit-learn->-r requirements.txt (line 6)) (3.1.0)\n",
      "Requirement already satisfied: six>=1.5 in c:\\users\\panst\\appdata\\roaming\\python\\python311\\site-packages (from python-dateutil>=2.7->matplotlib->-r requirements.txt (line 2)) (1.16.0)\n",
      "Requirement already satisfied: pandas-flavor in e:\\users\\panst\\onedrive\\pulpit\\python\\lib\\site-packages (from descriptastorus->scikit-fingerprints->-r requirements.txt (line 5)) (0.6.0)\n",
      "Requirement already satisfied: mmh3>=2.3.1 in e:\\users\\panst\\onedrive\\pulpit\\python\\lib\\site-packages (from e3fp->scikit-fingerprints->-r requirements.txt (line 5)) (5.0.0)\n",
      "Requirement already satisfied: sdaxen-python-utilities>=0.1.5 in e:\\users\\panst\\onedrive\\pulpit\\python\\lib\\site-packages (from e3fp->scikit-fingerprints->-r requirements.txt (line 5)) (0.1.5)\n",
      "Requirement already satisfied: smart-open>=1.8.3 in e:\\users\\panst\\onedrive\\pulpit\\python\\lib\\site-packages (from e3fp->scikit-fingerprints->-r requirements.txt (line 5)) (6.4.0)\n",
      "Requirement already satisfied: filelock in e:\\users\\panst\\onedrive\\pulpit\\python\\lib\\site-packages (from huggingface_hub->scikit-fingerprints->-r requirements.txt (line 5)) (3.15.4)\n",
      "Requirement already satisfied: fsspec>=2023.5.0 in e:\\users\\panst\\onedrive\\pulpit\\python\\lib\\site-packages (from huggingface_hub->scikit-fingerprints->-r requirements.txt (line 5)) (2024.3.1)\n",
      "Requirement already satisfied: pyyaml>=5.1 in e:\\users\\panst\\onedrive\\pulpit\\python\\lib\\site-packages (from huggingface_hub->scikit-fingerprints->-r requirements.txt (line 5)) (6.0.1)\n",
      "Requirement already satisfied: requests in e:\\users\\panst\\onedrive\\pulpit\\python\\lib\\site-packages (from huggingface_hub->scikit-fingerprints->-r requirements.txt (line 5)) (2.32.3)\n",
      "Requirement already satisfied: typing-extensions>=3.7.4.3 in e:\\users\\panst\\onedrive\\pulpit\\python\\lib\\site-packages (from huggingface_hub->scikit-fingerprints->-r requirements.txt (line 5)) (4.11.0)\n",
      "Requirement already satisfied: colorama in e:\\users\\panst\\onedrive\\pulpit\\python\\lib\\site-packages (from tqdm->scikit-fingerprints->-r requirements.txt (line 5)) (0.4.6)\n",
      "Requirement already satisfied: comm>=0.1.1 in c:\\users\\panst\\appdata\\roaming\\python\\python311\\site-packages (from ipykernel->jupyter->-r requirements.txt (line 1)) (0.2.2)\n",
      "Requirement already satisfied: debugpy>=1.6.5 in c:\\users\\panst\\appdata\\roaming\\python\\python311\\site-packages (from ipykernel->jupyter->-r requirements.txt (line 1)) (1.8.1)\n",
      "Requirement already satisfied: ipython>=7.23.1 in c:\\users\\panst\\appdata\\roaming\\python\\python311\\site-packages (from ipykernel->jupyter->-r requirements.txt (line 1)) (8.22.2)\n",
      "Requirement already satisfied: jupyter-client>=6.1.12 in c:\\users\\panst\\appdata\\roaming\\python\\python311\\site-packages (from ipykernel->jupyter->-r requirements.txt (line 1)) (7.4.9)\n",
      "Requirement already satisfied: jupyter-core!=5.0.*,>=4.12 in c:\\users\\panst\\appdata\\roaming\\python\\python311\\site-packages (from ipykernel->jupyter->-r requirements.txt (line 1)) (5.7.2)\n",
      "Requirement already satisfied: matplotlib-inline>=0.1 in c:\\users\\panst\\appdata\\roaming\\python\\python311\\site-packages (from ipykernel->jupyter->-r requirements.txt (line 1)) (0.1.6)\n",
      "Requirement already satisfied: nest-asyncio in c:\\users\\panst\\appdata\\roaming\\python\\python311\\site-packages (from ipykernel->jupyter->-r requirements.txt (line 1)) (1.6.0)\n",
      "Requirement already satisfied: psutil in c:\\users\\panst\\appdata\\roaming\\python\\python311\\site-packages (from ipykernel->jupyter->-r requirements.txt (line 1)) (5.9.8)\n",
      "Requirement already satisfied: pyzmq>=24 in c:\\users\\panst\\appdata\\roaming\\python\\python311\\site-packages (from ipykernel->jupyter->-r requirements.txt (line 1)) (24.0.1)\n",
      "Requirement already satisfied: tornado>=6.1 in c:\\users\\panst\\appdata\\roaming\\python\\python311\\site-packages (from ipykernel->jupyter->-r requirements.txt (line 1)) (6.4)\n",
      "Requirement already satisfied: traitlets>=5.4.0 in c:\\users\\panst\\appdata\\roaming\\python\\python311\\site-packages (from ipykernel->jupyter->-r requirements.txt (line 1)) (5.14.2)\n",
      "Collecting widgetsnbextension~=4.0.12 (from ipywidgets->jupyter->-r requirements.txt (line 1))\n",
      "  Downloading widgetsnbextension-4.0.13-py3-none-any.whl.metadata (1.6 kB)\n",
      "Collecting jupyterlab-widgets~=3.0.12 (from ipywidgets->jupyter->-r requirements.txt (line 1))\n",
      "  Downloading jupyterlab_widgets-3.0.13-py3-none-any.whl.metadata (4.1 kB)\n",
      "Requirement already satisfied: prompt-toolkit>=3.0.30 in c:\\users\\panst\\appdata\\roaming\\python\\python311\\site-packages (from jupyter-console->jupyter->-r requirements.txt (line 1)) (3.0.43)\n",
      "Requirement already satisfied: pygments in c:\\users\\panst\\appdata\\roaming\\python\\python311\\site-packages (from jupyter-console->jupyter->-r requirements.txt (line 1)) (2.17.2)\n",
      "Requirement already satisfied: async-lru>=1.0.0 in c:\\users\\panst\\appdata\\roaming\\python\\python311\\site-packages (from jupyterlab->jupyter->-r requirements.txt (line 1)) (2.0.4)\n",
      "Requirement already satisfied: httpx>=0.25.0 in c:\\users\\panst\\appdata\\roaming\\python\\python311\\site-packages (from jupyterlab->jupyter->-r requirements.txt (line 1)) (0.27.2)\n",
      "Requirement already satisfied: jinja2>=3.0.3 in e:\\users\\panst\\onedrive\\pulpit\\python\\lib\\site-packages (from jupyterlab->jupyter->-r requirements.txt (line 1)) (3.1.3)\n",
      "Requirement already satisfied: jupyter-lsp>=2.0.0 in c:\\users\\panst\\appdata\\roaming\\python\\python311\\site-packages (from jupyterlab->jupyter->-r requirements.txt (line 1)) (2.2.5)\n",
      "Requirement already satisfied: jupyter-server<3,>=2.4.0 in c:\\users\\panst\\appdata\\roaming\\python\\python311\\site-packages (from jupyterlab->jupyter->-r requirements.txt (line 1)) (2.14.2)\n",
      "Requirement already satisfied: jupyterlab-server<3,>=2.27.1 in c:\\users\\panst\\appdata\\roaming\\python\\python311\\site-packages (from jupyterlab->jupyter->-r requirements.txt (line 1)) (2.27.3)\n",
      "Requirement already satisfied: notebook-shim>=0.2 in c:\\users\\panst\\appdata\\roaming\\python\\python311\\site-packages (from jupyterlab->jupyter->-r requirements.txt (line 1)) (0.2.4)\n",
      "Requirement already satisfied: setuptools>=40.1.0 in e:\\users\\panst\\onedrive\\pulpit\\python\\lib\\site-packages (from jupyterlab->jupyter->-r requirements.txt (line 1)) (65.5.0)\n",
      "Requirement already satisfied: networkx in e:\\users\\panst\\onedrive\\pulpit\\python\\lib\\site-packages (from mordredcommunity->scikit-fingerprints->-r requirements.txt (line 5)) (3.3)\n",
      "Requirement already satisfied: beautifulsoup4 in e:\\users\\panst\\onedrive\\pulpit\\python\\lib\\site-packages (from nbconvert->jupyter->-r requirements.txt (line 1)) (4.12.3)\n",
      "Requirement already satisfied: bleach!=5.0.0 in e:\\users\\panst\\onedrive\\pulpit\\python\\lib\\site-packages (from nbconvert->jupyter->-r requirements.txt (line 1)) (6.1.0)\n",
      "Requirement already satisfied: defusedxml in e:\\users\\panst\\onedrive\\pulpit\\python\\lib\\site-packages (from nbconvert->jupyter->-r requirements.txt (line 1)) (0.7.1)\n",
      "Requirement already satisfied: jupyterlab-pygments in e:\\users\\panst\\onedrive\\pulpit\\python\\lib\\site-packages (from nbconvert->jupyter->-r requirements.txt (line 1)) (0.3.0)\n",
      "Requirement already satisfied: markupsafe>=2.0 in c:\\users\\panst\\appdata\\roaming\\python\\python311\\site-packages (from nbconvert->jupyter->-r requirements.txt (line 1)) (2.1.2)\n",
      "Requirement already satisfied: mistune<4,>=2.0.3 in e:\\users\\panst\\onedrive\\pulpit\\python\\lib\\site-packages (from nbconvert->jupyter->-r requirements.txt (line 1)) (3.0.2)\n",
      "Requirement already satisfied: nbclient>=0.5.0 in e:\\users\\panst\\onedrive\\pulpit\\python\\lib\\site-packages (from nbconvert->jupyter->-r requirements.txt (line 1)) (0.10.0)\n",
      "Requirement already satisfied: nbformat>=5.7 in e:\\users\\panst\\onedrive\\pulpit\\python\\lib\\site-packages (from nbconvert->jupyter->-r requirements.txt (line 1)) (5.10.4)\n",
      "Requirement already satisfied: pandocfilters>=1.4.1 in e:\\users\\panst\\onedrive\\pulpit\\python\\lib\\site-packages (from nbconvert->jupyter->-r requirements.txt (line 1)) (1.5.1)\n",
      "Requirement already satisfied: tinycss2 in e:\\users\\panst\\onedrive\\pulpit\\python\\lib\\site-packages (from nbconvert->jupyter->-r requirements.txt (line 1)) (1.3.0)\n",
      "Requirement already satisfied: webencodings in e:\\users\\panst\\onedrive\\pulpit\\python\\lib\\site-packages (from bleach!=5.0.0->nbconvert->jupyter->-r requirements.txt (line 1)) (0.5.1)\n",
      "Requirement already satisfied: anyio in c:\\users\\panst\\appdata\\roaming\\python\\python311\\site-packages (from httpx>=0.25.0->jupyterlab->jupyter->-r requirements.txt (line 1)) (4.6.2.post1)\n",
      "Requirement already satisfied: certifi in e:\\users\\panst\\onedrive\\pulpit\\python\\lib\\site-packages (from httpx>=0.25.0->jupyterlab->jupyter->-r requirements.txt (line 1)) (2024.7.4)\n",
      "Requirement already satisfied: httpcore==1.* in c:\\users\\panst\\appdata\\roaming\\python\\python311\\site-packages (from httpx>=0.25.0->jupyterlab->jupyter->-r requirements.txt (line 1)) (1.0.6)\n",
      "Requirement already satisfied: idna in e:\\users\\panst\\onedrive\\pulpit\\python\\lib\\site-packages (from httpx>=0.25.0->jupyterlab->jupyter->-r requirements.txt (line 1)) (3.7)\n",
      "Requirement already satisfied: sniffio in c:\\users\\panst\\appdata\\roaming\\python\\python311\\site-packages (from httpx>=0.25.0->jupyterlab->jupyter->-r requirements.txt (line 1)) (1.3.1)\n",
      "Requirement already satisfied: h11<0.15,>=0.13 in c:\\users\\panst\\appdata\\roaming\\python\\python311\\site-packages (from httpcore==1.*->httpx>=0.25.0->jupyterlab->jupyter->-r requirements.txt (line 1)) (0.14.0)\n",
      "Requirement already satisfied: decorator in c:\\users\\panst\\appdata\\roaming\\python\\python311\\site-packages (from ipython>=7.23.1->ipykernel->jupyter->-r requirements.txt (line 1)) (4.4.2)\n",
      "Requirement already satisfied: jedi>=0.16 in c:\\users\\panst\\appdata\\roaming\\python\\python311\\site-packages (from ipython>=7.23.1->ipykernel->jupyter->-r requirements.txt (line 1)) (0.19.1)\n",
      "Requirement already satisfied: stack-data in c:\\users\\panst\\appdata\\roaming\\python\\python311\\site-packages (from ipython>=7.23.1->ipykernel->jupyter->-r requirements.txt (line 1)) (0.6.3)\n",
      "Requirement already satisfied: entrypoints in c:\\users\\panst\\appdata\\roaming\\python\\python311\\site-packages (from jupyter-client>=6.1.12->ipykernel->jupyter->-r requirements.txt (line 1)) (0.4)\n",
      "Requirement already satisfied: platformdirs>=2.5 in e:\\users\\panst\\onedrive\\pulpit\\python\\lib\\site-packages (from jupyter-core!=5.0.*,>=4.12->ipykernel->jupyter->-r requirements.txt (line 1)) (4.2.2)\n",
      "Requirement already satisfied: pywin32>=300 in c:\\users\\panst\\appdata\\roaming\\python\\python311\\site-packages (from jupyter-core!=5.0.*,>=4.12->ipykernel->jupyter->-r requirements.txt (line 1)) (305)\n",
      "Requirement already satisfied: argon2-cffi>=21.1 in c:\\users\\panst\\appdata\\roaming\\python\\python311\\site-packages (from jupyter-server<3,>=2.4.0->jupyterlab->jupyter->-r requirements.txt (line 1)) (23.1.0)\n",
      "Requirement already satisfied: jupyter-events>=0.9.0 in c:\\users\\panst\\appdata\\roaming\\python\\python311\\site-packages (from jupyter-server<3,>=2.4.0->jupyterlab->jupyter->-r requirements.txt (line 1)) (0.10.0)\n",
      "Requirement already satisfied: jupyter-server-terminals>=0.4.4 in c:\\users\\panst\\appdata\\roaming\\python\\python311\\site-packages (from jupyter-server<3,>=2.4.0->jupyterlab->jupyter->-r requirements.txt (line 1)) (0.5.3)\n",
      "Requirement already satisfied: overrides>=5.0 in c:\\users\\panst\\appdata\\roaming\\python\\python311\\site-packages (from jupyter-server<3,>=2.4.0->jupyterlab->jupyter->-r requirements.txt (line 1)) (7.7.0)\n",
      "Requirement already satisfied: prometheus-client>=0.9 in c:\\users\\panst\\appdata\\roaming\\python\\python311\\site-packages (from jupyter-server<3,>=2.4.0->jupyterlab->jupyter->-r requirements.txt (line 1)) (0.21.0)\n",
      "Requirement already satisfied: pywinpty>=2.0.1 in c:\\users\\panst\\appdata\\roaming\\python\\python311\\site-packages (from jupyter-server<3,>=2.4.0->jupyterlab->jupyter->-r requirements.txt (line 1)) (2.0.14)\n",
      "Requirement already satisfied: send2trash>=1.8.2 in c:\\users\\panst\\appdata\\roaming\\python\\python311\\site-packages (from jupyter-server<3,>=2.4.0->jupyterlab->jupyter->-r requirements.txt (line 1)) (1.8.3)\n",
      "Requirement already satisfied: terminado>=0.8.3 in c:\\users\\panst\\appdata\\roaming\\python\\python311\\site-packages (from jupyter-server<3,>=2.4.0->jupyterlab->jupyter->-r requirements.txt (line 1)) (0.18.1)\n",
      "Requirement already satisfied: websocket-client>=1.7 in c:\\users\\panst\\appdata\\roaming\\python\\python311\\site-packages (from jupyter-server<3,>=2.4.0->jupyterlab->jupyter->-r requirements.txt (line 1)) (1.8.0)\n",
      "Requirement already satisfied: babel>=2.10 in e:\\users\\panst\\onedrive\\pulpit\\python\\lib\\site-packages (from jupyterlab-server<3,>=2.27.1->jupyterlab->jupyter->-r requirements.txt (line 1)) (2.16.0)\n",
      "Requirement already satisfied: json5>=0.9.0 in c:\\users\\panst\\appdata\\roaming\\python\\python311\\site-packages (from jupyterlab-server<3,>=2.27.1->jupyterlab->jupyter->-r requirements.txt (line 1)) (0.9.25)\n",
      "Requirement already satisfied: jsonschema>=4.18.0 in e:\\users\\panst\\onedrive\\pulpit\\python\\lib\\site-packages (from jupyterlab-server<3,>=2.27.1->jupyterlab->jupyter->-r requirements.txt (line 1)) (4.23.0)\n",
      "Requirement already satisfied: fastjsonschema>=2.15 in e:\\users\\panst\\onedrive\\pulpit\\python\\lib\\site-packages (from nbformat>=5.7->nbconvert->jupyter->-r requirements.txt (line 1)) (2.20.0)\n",
      "Requirement already satisfied: wcwidth in c:\\users\\panst\\appdata\\roaming\\python\\python311\\site-packages (from prompt-toolkit>=3.0.30->jupyter-console->jupyter->-r requirements.txt (line 1)) (0.2.13)\n",
      "Requirement already satisfied: charset-normalizer<4,>=2 in e:\\users\\panst\\onedrive\\pulpit\\python\\lib\\site-packages (from requests->huggingface_hub->scikit-fingerprints->-r requirements.txt (line 5)) (3.3.2)\n",
      "Requirement already satisfied: urllib3<3,>=1.21.1 in e:\\users\\panst\\onedrive\\pulpit\\python\\lib\\site-packages (from requests->huggingface_hub->scikit-fingerprints->-r requirements.txt (line 5)) (2.2.2)\n",
      "Requirement already satisfied: soupsieve>1.2 in e:\\users\\panst\\onedrive\\pulpit\\python\\lib\\site-packages (from beautifulsoup4->nbconvert->jupyter->-r requirements.txt (line 1)) (2.6)\n",
      "Requirement already satisfied: xarray in e:\\users\\panst\\onedrive\\pulpit\\python\\lib\\site-packages (from pandas-flavor->descriptastorus->scikit-fingerprints->-r requirements.txt (line 5)) (2024.9.0)\n",
      "Requirement already satisfied: argon2-cffi-bindings in c:\\users\\panst\\appdata\\roaming\\python\\python311\\site-packages (from argon2-cffi>=21.1->jupyter-server<3,>=2.4.0->jupyterlab->jupyter->-r requirements.txt (line 1)) (21.2.0)\n",
      "Requirement already satisfied: parso<0.9.0,>=0.8.3 in c:\\users\\panst\\appdata\\roaming\\python\\python311\\site-packages (from jedi>=0.16->ipython>=7.23.1->ipykernel->jupyter->-r requirements.txt (line 1)) (0.8.3)\n",
      "Requirement already satisfied: attrs>=22.2.0 in e:\\users\\panst\\onedrive\\pulpit\\python\\lib\\site-packages (from jsonschema>=4.18.0->jupyterlab-server<3,>=2.27.1->jupyterlab->jupyter->-r requirements.txt (line 1)) (24.2.0)\n",
      "Requirement already satisfied: jsonschema-specifications>=2023.03.6 in e:\\users\\panst\\onedrive\\pulpit\\python\\lib\\site-packages (from jsonschema>=4.18.0->jupyterlab-server<3,>=2.27.1->jupyterlab->jupyter->-r requirements.txt (line 1)) (2024.10.1)\n",
      "Requirement already satisfied: referencing>=0.28.4 in e:\\users\\panst\\onedrive\\pulpit\\python\\lib\\site-packages (from jsonschema>=4.18.0->jupyterlab-server<3,>=2.27.1->jupyterlab->jupyter->-r requirements.txt (line 1)) (0.35.1)\n",
      "Requirement already satisfied: rpds-py>=0.7.1 in e:\\users\\panst\\onedrive\\pulpit\\python\\lib\\site-packages (from jsonschema>=4.18.0->jupyterlab-server<3,>=2.27.1->jupyterlab->jupyter->-r requirements.txt (line 1)) (0.20.0)\n",
      "Requirement already satisfied: python-json-logger>=2.0.4 in c:\\users\\panst\\appdata\\roaming\\python\\python311\\site-packages (from jupyter-events>=0.9.0->jupyter-server<3,>=2.4.0->jupyterlab->jupyter->-r requirements.txt (line 1)) (2.0.7)\n",
      "Requirement already satisfied: rfc3339-validator in c:\\users\\panst\\appdata\\roaming\\python\\python311\\site-packages (from jupyter-events>=0.9.0->jupyter-server<3,>=2.4.0->jupyterlab->jupyter->-r requirements.txt (line 1)) (0.1.4)\n",
      "Requirement already satisfied: rfc3986-validator>=0.1.1 in c:\\users\\panst\\appdata\\roaming\\python\\python311\\site-packages (from jupyter-events>=0.9.0->jupyter-server<3,>=2.4.0->jupyterlab->jupyter->-r requirements.txt (line 1)) (0.1.1)\n",
      "Requirement already satisfied: executing>=1.2.0 in c:\\users\\panst\\appdata\\roaming\\python\\python311\\site-packages (from stack-data->ipython>=7.23.1->ipykernel->jupyter->-r requirements.txt (line 1)) (2.0.1)\n",
      "Requirement already satisfied: asttokens>=2.1.0 in c:\\users\\panst\\appdata\\roaming\\python\\python311\\site-packages (from stack-data->ipython>=7.23.1->ipykernel->jupyter->-r requirements.txt (line 1)) (2.4.1)\n",
      "Requirement already satisfied: pure-eval in c:\\users\\panst\\appdata\\roaming\\python\\python311\\site-packages (from stack-data->ipython>=7.23.1->ipykernel->jupyter->-r requirements.txt (line 1)) (0.2.2)\n",
      "Requirement already satisfied: fqdn in c:\\users\\panst\\appdata\\roaming\\python\\python311\\site-packages (from jsonschema[format-nongpl]>=4.18.0->jupyter-events>=0.9.0->jupyter-server<3,>=2.4.0->jupyterlab->jupyter->-r requirements.txt (line 1)) (1.5.1)\n",
      "Requirement already satisfied: isoduration in c:\\users\\panst\\appdata\\roaming\\python\\python311\\site-packages (from jsonschema[format-nongpl]>=4.18.0->jupyter-events>=0.9.0->jupyter-server<3,>=2.4.0->jupyterlab->jupyter->-r requirements.txt (line 1)) (20.11.0)\n",
      "Requirement already satisfied: jsonpointer>1.13 in c:\\users\\panst\\appdata\\roaming\\python\\python311\\site-packages (from jsonschema[format-nongpl]>=4.18.0->jupyter-events>=0.9.0->jupyter-server<3,>=2.4.0->jupyterlab->jupyter->-r requirements.txt (line 1)) (3.0.0)\n",
      "Requirement already satisfied: uri-template in c:\\users\\panst\\appdata\\roaming\\python\\python311\\site-packages (from jsonschema[format-nongpl]>=4.18.0->jupyter-events>=0.9.0->jupyter-server<3,>=2.4.0->jupyterlab->jupyter->-r requirements.txt (line 1)) (1.3.0)\n",
      "Requirement already satisfied: webcolors>=24.6.0 in c:\\users\\panst\\appdata\\roaming\\python\\python311\\site-packages (from jsonschema[format-nongpl]>=4.18.0->jupyter-events>=0.9.0->jupyter-server<3,>=2.4.0->jupyterlab->jupyter->-r requirements.txt (line 1)) (24.8.0)\n",
      "Requirement already satisfied: cffi>=1.0.1 in c:\\users\\panst\\appdata\\roaming\\python\\python311\\site-packages (from argon2-cffi-bindings->argon2-cffi>=21.1->jupyter-server<3,>=2.4.0->jupyterlab->jupyter->-r requirements.txt (line 1)) (1.15.1)\n",
      "Requirement already satisfied: pycparser in c:\\users\\panst\\appdata\\roaming\\python\\python311\\site-packages (from cffi>=1.0.1->argon2-cffi-bindings->argon2-cffi>=21.1->jupyter-server<3,>=2.4.0->jupyterlab->jupyter->-r requirements.txt (line 1)) (2.21)\n",
      "Requirement already satisfied: arrow>=0.15.0 in c:\\users\\panst\\appdata\\roaming\\python\\python311\\site-packages (from isoduration->jsonschema[format-nongpl]>=4.18.0->jupyter-events>=0.9.0->jupyter-server<3,>=2.4.0->jupyterlab->jupyter->-r requirements.txt (line 1)) (1.3.0)\n",
      "Requirement already satisfied: types-python-dateutil>=2.8.10 in c:\\users\\panst\\appdata\\roaming\\python\\python311\\site-packages (from arrow>=0.15.0->isoduration->jsonschema[format-nongpl]>=4.18.0->jupyter-events>=0.9.0->jupyter-server<3,>=2.4.0->jupyterlab->jupyter->-r requirements.txt (line 1)) (2.9.0.20241003)\n",
      "Using cached jupyter-1.1.1-py2.py3-none-any.whl (2.7 kB)\n",
      "Using cached ipywidgets-8.1.5-py3-none-any.whl (139 kB)\n",
      "Using cached jupyter_console-6.6.3-py3-none-any.whl (24 kB)\n",
      "Using cached jupyterlab_widgets-3.0.13-py3-none-any.whl (214 kB)\n",
      "Using cached widgetsnbextension-4.0.13-py3-none-any.whl (2.3 MB)\n",
      "Installing collected packages: widgetsnbextension, jupyterlab-widgets, ipywidgets, jupyter-console, jupyter\n",
      "Successfully installed ipywidgets-8.1.5 jupyter-1.1.1 jupyter-console-6.6.3 jupyterlab-widgets-3.0.13 widgetsnbextension-4.0.13\n"
     ]
    },
    {
     "name": "stderr",
     "output_type": "stream",
     "text": [
      "\n",
      "[notice] A new release of pip is available: 24.2 -> 24.3.1\n",
      "[notice] To update, run: python.exe -m pip install --upgrade pip\n"
     ]
    }
   ],
   "source": [
    "!pip install -r requirements.txt"
   ]
  },
  {
   "cell_type": "markdown",
   "metadata": {},
   "source": [
    "Przydatne linki:\n",
    "\n",
    "1.https://scikit-fingerprints.github.io/scikit-fingerprints/index.html <- dokumentacja biblioteki Scikit-Fingerprints,\n",
    "\n",
    "2.https://www.rdkit.org/docs/ <- Dokumentacja biblioteki RDKit, która umożliwi wykonanie wizualizacji,\n",
    "\n",
    "3.https://pubchem.ncbi.nlm.nih.gov/ <- PubChem, bodaj największe otwarte źródło informacji o cząsteczkach chemicznych,"
   ]
  },
  {
   "cell_type": "markdown",
   "metadata": {},
   "source": [
    "Format SMILES"
   ]
  },
  {
   "cell_type": "markdown",
   "metadata": {},
   "source": [
    "SMILES to format sposób zapisywania struktury cząsteczek chemicznych w postaci ciągu znaków ASCII, znajdujący zastosowanie w chemii obliczeniowej czy bioinformatyce."
   ]
  },
  {
   "cell_type": "markdown",
   "metadata": {},
   "source": [
    "W formacie SMILES pierwiastki są oznaczane [X], gdzie X to symbol pierwiastka z układu okresowego.\n",
    "\n",
    "Wyjątkami od powyższego są symbole C i O, które domyślnie oznaczają metan i wodę.\n",
    "\n",
    "Pierwiastki organiczne (https://pl.wikipedia.org/wiki/Pierwiastki_biofilne) można zapisać bez nawiasów kwadratowych.\n",
    "\n",
    "Gdy między symbolami nie występują żadne znaki, to oznacza to, że są one połączone wiązanie pojedycznym. Wiązania podwójne i potrójne oznacza się kolejno symbolami = i #.\n",
    "\n",
    "Rozgałęzienia struktur oznacza się przy pomocy nawiasów okrągłych.\n",
    "\n",
    "Do zapisu układów cyklicznych używa się małych liter."
   ]
  },
  {
   "cell_type": "markdown",
   "metadata": {},
   "source": [
    "Zadanie 1"
   ]
  },
  {
   "cell_type": "markdown",
   "metadata": {},
   "source": [
    "Zilustrujmy powyższe reguły zapisu w formacie SMILES przedstawiając związki chemiczne w postaci grafów. W tym celu będziemy potrzebować biblioteki RDKit, która zapewnie narzędzia potrzebne do wizualizacji. Potrzebne do zadania SMILESy możesz znaleźć na stronie https://pubchem.ncbi.nlm.nih.gov/"
   ]
  },
  {
   "cell_type": "code",
   "execution_count": 2,
   "metadata": {},
   "outputs": [
    {
     "name": "stderr",
     "output_type": "stream",
     "text": [
      "<frozen importlib._bootstrap>:241: RuntimeWarning: to-Python converter for class boost::shared_ptr<class RDKit::FilterMatcherBase> already registered; second conversion method ignored.\n"
     ]
    }
   ],
   "source": [
    "from rdkit import Chem\n",
    "from rdkit.Chem import Draw, Mol\n",
    "from skfp.preprocessing.mol_to_from_smiles import MolFromSmiles"
   ]
  },
  {
   "cell_type": "code",
   "execution_count": 3,
   "metadata": {},
   "outputs": [],
   "source": [
    "# TODO: Znajdź w serwisie PubChem (lub dowolonym innym) SMILES podanych poniżej związków z różnymi rodzajami wiązań, rozgałęzieniami a także związków cyklicznych.\n",
    "smiles_list: list[str] = [\"C\", # Metan (Methane)\n",
    "                          \"O=C=O\", # TODO: Dwutlenek węgla (Carbon dioxide)\n",
    "                          \"C#C\", # TODO: Acetylen (Acetylene)\n",
    "                          \"CC(=O)O\", # TODO: Kwas octowy (Acetic acid)\n",
    "                          \"c1ccccc1\"] # TODO: Benzen (Benzene)"
   ]
  },
  {
   "cell_type": "code",
   "execution_count": 4,
   "metadata": {},
   "outputs": [],
   "source": [
    "# Mając gotowe SMILESy powinniśmy przekonwertować jest do molekuł, reprezentowanych przez obiekt Mol\n",
    "mols_list: list[Mol] = []\n",
    "for smiles in smiles_list:\n",
    "    mols_list.append(MolFromSmiles(smiles)) # TODO"
   ]
  },
  {
   "cell_type": "code",
   "execution_count": 5,
   "metadata": {},
   "outputs": [],
   "source": [
    "# Teraz możemy przyjrzeć się grafom reprezentującym poszczególne molekuły\n",
    "for mol in mols_list:\n",
    "    image = Draw.MolToImage(mol)\n",
    "    image.show()"
   ]
  },
  {
   "cell_type": "markdown",
   "metadata": {},
   "source": [
    "Jupyter pozwala bezpośrednio wyświetlać molekuły"
   ]
  },
  {
   "cell_type": "code",
   "execution_count": 5,
   "metadata": {},
   "outputs": [
    {
     "data": {
      "image/png": "[encoded data removed]",
      "text/plain": [
       "<rdkit.Chem.rdchem.Mol at 0x286c53983c0>"
      ]
     },
     "execution_count": 5,
     "metadata": {},
     "output_type": "execute_result"
    }
   ],
   "source": [
    "mols_list[0]"
   ]
  },
  {
   "cell_type": "code",
   "execution_count": 6,
   "metadata": {},
   "outputs": [
    {
     "data": {
      "image/png": "[encoded data removed]",
      "text/plain": [
       "<rdkit.Chem.rdchem.Mol at 0x286c52fbe60>"
      ]
     },
     "execution_count": 6,
     "metadata": {},
     "output_type": "execute_result"
    }
   ],
   "source": [
    "mols_list[1]"
   ]
  },
  {
   "cell_type": "code",
   "execution_count": 7,
   "metadata": {},
   "outputs": [
    {
     "data": {
      "image/png": "[encoded data removed]",
      "text/plain": [
       "<rdkit.Chem.rdchem.Mol at 0x286c5398430>"
      ]
     },
     "execution_count": 7,
     "metadata": {},
     "output_type": "execute_result"
    }
   ],
   "source": [
    "mols_list[2]"
   ]
  },
  {
   "cell_type": "code",
   "execution_count": 8,
   "metadata": {},
   "outputs": [
    {
     "data": {
      "image/png": "[encoded data removed]",
      "text/plain": [
       "<rdkit.Chem.rdchem.Mol at 0x286c53984a0>"
      ]
     },
     "execution_count": 8,
     "metadata": {},
     "output_type": "execute_result"
    }
   ],
   "source": [
    "mols_list[3]"
   ]
  },
  {
   "cell_type": "code",
   "execution_count": 9,
   "metadata": {},
   "outputs": [
    {
     "data": {
      "image/png": "[encoded data removed]",
      "text/plain": [
       "<rdkit.Chem.rdchem.Mol at 0x286c5398510>"
      ]
     },
     "execution_count": 9,
     "metadata": {},
     "output_type": "execute_result"
    }
   ],
   "source": [
    "mols_list[4]"
   ]
  },
  {
   "cell_type": "markdown",
   "metadata": {},
   "source": [
    "Zadanie 2"
   ]
  },
  {
   "cell_type": "markdown",
   "metadata": {},
   "source": [
    "Teraz wyświetlmy poszczególne atomy, z których składają się związki powyżej."
   ]
  },
  {
   "cell_type": "code",
   "execution_count": 13,
   "metadata": {},
   "outputs": [],
   "source": [
    "def print_atom_info(mol):\n",
    "    for atom in mol.GetAtoms():\n",
    "        # TODO: Wyświetl symbole atomów wchodzących w skład podanej molekuły\n",
    "        print(atom.GetSymbol())"
   ]
  },
  {
   "cell_type": "code",
   "execution_count": 14,
   "metadata": {},
   "outputs": [
    {
     "name": "stdout",
     "output_type": "stream",
     "text": [
      "C\n",
      "O\n",
      "C\n",
      "O\n",
      "C\n",
      "C\n",
      "C\n",
      "C\n",
      "O\n",
      "O\n",
      "C\n",
      "C\n",
      "C\n",
      "C\n",
      "C\n",
      "C\n"
     ]
    }
   ],
   "source": [
    "for mol in mols_list:\n",
    "    print_atom_info(mol)"
   ]
  },
  {
   "cell_type": "markdown",
   "metadata": {},
   "source": [
    "Zadanie 3"
   ]
  },
  {
   "cell_type": "markdown",
   "metadata": {},
   "source": [
    "Wyświetlmy rodzaje wiązań, które występują między atomami w związkach powyżej."
   ]
  },
  {
   "cell_type": "code",
   "execution_count": 15,
   "metadata": {},
   "outputs": [],
   "source": [
    "def print_bond_info(mol):\n",
    "    for bond in mol.GetBonds():\n",
    "        # TODO: Wyświetl symbole atomów wchodzących w skład podanej molekuł\n",
    "        begin_atom = bond.GetBeginAtom()\n",
    "        end_atom = bond.GetEndAtom()\n",
    "        print(\n",
    "            begin_atom.GetSymbol(),\n",
    "            end_atom.GetSymbol(),\n",
    "            f\"{bond.GetBondType()}\",\n",
    "        )"
   ]
  },
  {
   "cell_type": "code",
   "execution_count": 16,
   "metadata": {},
   "outputs": [
    {
     "name": "stdout",
     "output_type": "stream",
     "text": [
      "O C DOUBLE\n",
      "C O DOUBLE\n",
      "C C TRIPLE\n",
      "C C SINGLE\n",
      "C O DOUBLE\n",
      "C O SINGLE\n",
      "C C AROMATIC\n",
      "C C AROMATIC\n",
      "C C AROMATIC\n",
      "C C AROMATIC\n",
      "C C AROMATIC\n",
      "C C AROMATIC\n"
     ]
    }
   ],
   "source": [
    "for mol in mols_list:\n",
    "    print_bond_info(mol)"
   ]
  },
  {
   "cell_type": "markdown",
   "metadata": {},
   "source": [
    "Zadanie 4"
   ]
  },
  {
   "cell_type": "markdown",
   "metadata": {},
   "source": [
    "Wyświetlmy informacje o ilości pierścieni w cząsteczce benzenu."
   ]
  },
  {
   "cell_type": "code",
   "execution_count": 17,
   "metadata": {},
   "outputs": [],
   "source": [
    "def get_ring_count(mol) -> int:\n",
    "    # TODO: Pobierz i zwróc informację o pierścieniach w cząsteczce\n",
    "    ring_info = mol.GetRingInfo()\n",
    "    \n",
    "    return ring_info.NumRings()"
   ]
  },
  {
   "cell_type": "code",
   "execution_count": 20,
   "metadata": {},
   "outputs": [
    {
     "name": "stdout",
     "output_type": "stream",
     "text": [
      "1\n"
     ]
    }
   ],
   "source": [
    "benzene_smiles = \"c1ccccc1\" # TODO\n",
    "benzene_smiles = MolFromSmiles(benzene_smiles)\n",
    "\n",
    "benzene_ring_count = get_ring_count(benzene_smiles)\n",
    "print(benzene_ring_count)"
   ]
  },
  {
   "cell_type": "code",
   "execution_count": 21,
   "metadata": {},
   "outputs": [],
   "source": [
    "assert benzene_ring_count == 1"
   ]
  },
  {
   "cell_type": "markdown",
   "metadata": {},
   "source": [
    "W ten sposób możemy pozyskać proste deskryptory. Istnieje jednak o wiele więcej czynników, które przesądzają o właściwościach cząsteczki."
   ]
  },
  {
   "cell_type": "markdown",
   "metadata": {},
   "source": [
    "Deskryptory molekularne są kluczowe dla chemoinformatyki, za ich pomocą możemy na przykład filtrować zbiory danych w poszukiwaniu cząsteczek o interesujących właściwościach."
   ]
  },
  {
   "cell_type": "markdown",
   "metadata": {},
   "source": [
    "W celu obliczenia wartości interesujących nas deskryptorów moglibyśmy ręcznie wykonywać operacje na obiektach reprezentujących cząsteczki. Na szczęście mamy warstwę abstrakcji, która ułatwi nam zadanie: \n",
    "\n",
    "https://www.rdkit.org/docs/source/rdkit.Chem.rdMolDescriptors.html"
   ]
  },
  {
   "cell_type": "code",
   "execution_count": 22,
   "metadata": {},
   "outputs": [],
   "source": [
    "from rdkit.Chem import Crippen, rdMolDescriptors"
   ]
  },
  {
   "cell_type": "markdown",
   "metadata": {},
   "source": [
    "Zadanie 5"
   ]
  },
  {
   "cell_type": "markdown",
   "metadata": {},
   "source": [
    "Spróbujmy utworzyć trzy filtry molekularne, znane jako **GSK**, **Rule of Veber** i **Oprea**."
   ]
  },
  {
   "cell_type": "markdown",
   "metadata": {},
   "source": [
    "https://pubs.acs.org/doi/10.1021/jm701122q\n",
    "\n",
    "https://pubmed.ncbi.nlm.nih.gov/12036371/\n",
    "\n",
    "https://pubmed.ncbi.nlm.nih.gov/10756480/"
   ]
  },
  {
   "cell_type": "markdown",
   "metadata": {},
   "source": [
    "Filtr GSK wymaga zdefiniowania dwóch deskryptorów:\n",
    "- Masy molowej cząsteczki, https://pl.wikipedia.org/wiki/Masa_molowa\n",
    "- logP https://pl.wikipedia.org/wiki/Wsp%C3%B3%C5%82czynnik_podzia%C5%82u, https://www.rdkit.org/docs/source/rdkit.Chem.Crippen.html\n",
    "\n",
    "Rule of Veber też używa dwóch reguł:\n",
    "- Ilości wiązań rotacyjnych (rotatble bonds),\n",
    "- Topological polar surface area (TPSA) https://en.wikipedia.org/wiki/Polar_surface_area,\n",
    "\n",
    "Rule of Oprea wymaga czterech deskryptorów:\n",
    "- Ilości dawców wiązań wodorowych (HBD), \n",
    "- Ilości akceptorów wiązań wodorowych (HBA), \n",
    "https://www.researchgate.net/figure/Hydrogen-bond-donor-HBD-and-hydrogen-bond-acceptor-HBA-sites-for-trizaole-Tz-left_fig5_346474495\n",
    "- Ilości wiązań rotacyjnych,\n",
    "- Ilości pierścieni\n",
    "\n",
    "W razie problemów można zajrzeć do repozytorium biblioteki **scikit-fingerprints**, która implementuje te i wiele innych filtrów.\n",
    "\n",
    "https://github.com/scikit-fingerprints/scikit-fingerprints/tree/master\n",
    "\n",
    "W ramach zadania przygotujemy znaczenie uproszczoną implementację, która pozwoli przedstawić regułę działania filtrów."
   ]
  },
  {
   "cell_type": "code",
   "execution_count": 24,
   "metadata": {},
   "outputs": [],
   "source": [
    "def would_pass_gsk_filter(mol) -> bool:\n",
    "    # TODO\n",
    "    rules = [\n",
    "        rdMolDescriptors.CalcExactMolWt(mol) <= 400, # Masa molowa TODO\n",
    "        Crippen.MolLogP(mol) <= 4, # logP TODO\n",
    "    ]\n",
    "\n",
    "    if not all(rules):\n",
    "        return False\n",
    "    else:\n",
    "        return True\n",
    "\n",
    "def would_pass_veber_rule(mol) -> bool:\n",
    "    # TODO\n",
    "    rules: list[bool] = [\n",
    "        rdMolDescriptors.CalcNumRotatableBonds(mol) <= 10, # Ilość wiązań rotacyjnych TODO\n",
    "        rdMolDescriptors.CalcTPSA(mol) <= 140 # TPSA TODO\n",
    "    ]\n",
    "\n",
    "    if not all(rules):\n",
    "        return False\n",
    "    else:\n",
    "        return True\n",
    "\n",
    "\n",
    "def would_pass_oprea_filter(mol) -> bool:\n",
    "    # TODO\n",
    "    rules: list[bool] = [\n",
    "        0 <= rdMolDescriptors.CalcNumHBD(mol) <= 2, # HBD TODO\n",
    "        2 <= rdMolDescriptors.CalcNumHBA(mol) <= 9, # HBA TODO\n",
    "        2 <= rdMolDescriptors.CalcNumRotatableBonds(mol) <= 8, # Ilość wiązań rotacyjnych TODO\n",
    "        1 <= rdMolDescriptors.CalcNumRings(mol) <= 4, # Ilość pierścieni TODO\n",
    "    ]\n",
    "\n",
    "    if not all(rules):\n",
    "        return False\n",
    "    else:\n",
    "        return True"
   ]
  },
  {
   "cell_type": "code",
   "execution_count": 25,
   "metadata": {},
   "outputs": [],
   "source": [
    "gsk_results: list[bool] = []\n",
    "smiles_for_gsk: list[str] = [\n",
    "    \"C1CC1N2C=C(C(=O)C3=CC(=C(C=C32)N4CCNCC4)F)C(=O)O\",  # Ciprofloxacin\n",
    "        \"CC(=O)CC(C1=CC=CC=C1)C2=C(C3=CC=CC=C3OC2=O)O\",  # Warfarin\n",
    "    r\"CN1C(=NC(=O)C(=O)N1)SCC2=C(N3[C@@H]([C@@H](C3=O)NC(=O)/C(=N\\OC)/C4=CSC(=N4)N)SC2)C(=O)O\",  # Ceftriaxone\n",
    "]\n",
    "\n",
    "for smiles in smiles_for_gsk:\n",
    "    # TODO przekonwertuj SMILEsy do Moli, wywołaj odpowiednią metodę i dodaj wynik do list\n",
    "    mol_for_gsk = MolFromSmiles(smiles) # TODO\n",
    "    gsk_results.append(would_pass_veber_rule(mol_for_gsk)) # TODO"
   ]
  },
  {
   "cell_type": "code",
   "execution_count": 26,
   "metadata": {},
   "outputs": [],
   "source": [
    "veber_results: list[bool] = []\n",
    "smiles_for_veber: list[str] = [\n",
    "    \"[C-]#N\",\n",
    "    \"CC=O\",\n",
    "    \"CS(=O)(=O)CCNCC1=CC=C(O1)C2=CC3=C(C=C2)N=CN=C3NC4=CC(=C(C=C4)OCC5=CC(=CC=C5)F)Cl\"\n",
    "]\n",
    "\n",
    "for smiles in smiles_for_veber:\n",
    "    # TODO przekonwertuj SMILEsy do Moli, wywołaj odpowiednią metodę i dodaj wynik do list\n",
    "    mol_for_veber = MolFromSmiles(smiles) # TODO\n",
    "    veber_results.append(would_pass_veber_rule(mol_for_veber)) # TODO"
   ]
  },
  {
   "cell_type": "code",
   "execution_count": 27,
   "metadata": {},
   "outputs": [],
   "source": [
    "oprea_results: list[bool] = []\n",
    "smiles_for_oprea: list[str] = [\n",
    "    \"C1CC1N2C=C(C(=O)C3=CC(=C(C=C32)N4CCNCC4)F)C(=O)O\",  # Ciprofloxacin\n",
    "    \"CC(=O)CC(C1=CC=CC=C1)C2=C(C3=CC=CC=C3OC2=O)O\",  # Warfarin\n",
    "    \"CC(=O)Nc1ccc(O)cc1\",  # Paracetamol\n",
    "]\n",
    "\n",
    "for smiles in smiles_for_veber:\n",
    "    # TODO przekonwertuj SMILEsy do Moli, wywołaj odpowiednią metodę i dodaj wynik do list\n",
    "    smiles_for_oprea = MolFromSmiles(smiles) # TODO\n",
    "    oprea_results.append(would_pass_veber_rule(smiles_for_oprea)) # TODO"
   ]
  },
  {
   "cell_type": "code",
   "execution_count": 28,
   "metadata": {},
   "outputs": [],
   "source": [
    "assert gsk_results == [True, True, False]\n",
    "assert veber_results == [True, True, False]\n",
    "assert oprea_results == [True, True, False]"
   ]
  },
  {
   "cell_type": "markdown",
   "metadata": {},
   "source": [
    "Zadanie 6"
   ]
  },
  {
   "cell_type": "markdown",
   "metadata": {},
   "source": [
    "Zmodyfikujmy wcześniej napisane metody, aby sprawdzić, które z reguł zostały złamane. Wyświetl wartości poszczególnych dekryptorów."
   ]
  },
  {
   "cell_type": "code",
   "execution_count": 31,
   "metadata": {},
   "outputs": [],
   "source": [
    "def gsk_issues(mol) -> None:\n",
    "    # TODO skopiuj reguły z poprzedniego zadania\n",
    "    rules = [\n",
    "        rdMolDescriptors.CalcExactMolWt(mol) <= 400, # Masa molowa TODO\n",
    "        Crippen.MolLogP(mol) <= 4, # logP TODO\n",
    "    ]\n",
    "\n",
    "    print(rules) # TODO\n",
    "\n",
    "    # TODO:\n",
    "    rule_values = [ \n",
    "        rdMolDescriptors.CalcExactMolWt(mol),\n",
    "        Crippen.MolLogP(mol)\n",
    "    ]\n",
    "\n",
    "    print(rule_values) # TODO\n",
    "\n",
    "def veber_issues(mol) -> None:\n",
    "    # TODO skopiuj reguły z poprzedniego zadania\n",
    "    rules: list[bool] = [\n",
    "        rdMolDescriptors.CalcNumRotatableBonds(mol) <= 10, # Ilość wiązań rotacyjnych TODO\n",
    "        rdMolDescriptors.CalcTPSA(mol) <= 140 # TPSA TODO\n",
    "    ]\n",
    "\n",
    "    print(rules) # TODO\n",
    "\n",
    "    # TODO:\n",
    "    rule_values = [ \n",
    "        rdMolDescriptors.CalcNumRotatableBonds(mol),\n",
    "        rdMolDescriptors.CalcTPSA(mol)\n",
    "    ]\n",
    "\n",
    "    print(rule_values) # TODO\n",
    "\n",
    "def oprea_issues(mol) -> None:\n",
    "    # TODO skopiuj reguły z poprzedniego zadania\n",
    "    rules: list[bool] = [\n",
    "        0 <= rdMolDescriptors.CalcNumHBD(mol) <= 2, # HBD TODO\n",
    "        2 <= rdMolDescriptors.CalcNumHBA(mol) <= 9, # HBA TODO\n",
    "        2 <= rdMolDescriptors.CalcNumRotatableBonds(mol) <= 8, # Ilość wiązań rotacyjnych TODO\n",
    "        1 <= rdMolDescriptors.CalcNumRings(mol) <= 4, # Ilość pierścieni TODO\n",
    "    ]\n",
    "\n",
    "    print(rules) # TODO\n",
    "\n",
    "    rule_values = [ \n",
    "        rdMolDescriptors.CalcNumHBD(mol),\n",
    "        rdMolDescriptors.CalcNumHBA(mol),\n",
    "        rdMolDescriptors.CalcNumRotatableBonds(mol),\n",
    "        rdMolDescriptors.CalcNumRotatableBonds(mol),\n",
    "        rdMolDescriptors.CalcNumRings(mol)\n",
    "    ]\n",
    "\n",
    "    print(rule_values) # TODO"
   ]
  },
  {
   "cell_type": "code",
   "execution_count": 33,
   "metadata": {},
   "outputs": [
    {
     "name": "stdout",
     "output_type": "stream",
     "text": [
      "[False, True]\n",
      "[554.0460579160002, -1.6112999999999957]\n"
     ]
    }
   ],
   "source": [
    "smiles_to_examine_gsk: list[str] = [\n",
    "    r\"CN1C(=NC(=O)C(=O)N1)SCC2=C(N3[C@@H]([C@@H](C3=O)NC(=O)/C(=N\\OC)/C4=CSC(=N4)N)SC2)C(=O)O\",  # TODO: Dodaj do listy SMILES, który nie przeszedł przez filtr w poprzednim zadaniu\n",
    "]\n",
    "\n",
    "for smiles in smiles_to_examine_gsk:\n",
    "    # TODO przekonwertuj SMILEsy do Moli, wywołaj odpowiednią metodę i dodaj wynik do list\n",
    "    mol_for_gsk = MolFromSmiles(smiles) # TODO\n",
    "    gsk_issues(mol_for_gsk)"
   ]
  },
  {
   "cell_type": "code",
   "execution_count": 34,
   "metadata": {},
   "outputs": [
    {
     "name": "stdout",
     "output_type": "stream",
     "text": [
      "[False, True]\n",
      "[11, 106.35000000000001]\n"
     ]
    }
   ],
   "source": [
    "smiles_to_examine_veber: list[str] = [\n",
    "    \"CS(=O)(=O)CCNCC1=CC=C(O1)C2=CC3=C(C=C2)N=CN=C3NC4=CC(=C(C=C4)OCC5=CC(=CC=C5)F)Cl\",  # TODO: Dodaj do listy SMILES, który nie przeszedł przez filtr w poprzednim zadaniu\n",
    "]\n",
    "\n",
    "for smiles in smiles_to_examine_veber:\n",
    "    # TODO przekonwertuj SMILEsy do Moli, wywołaj odpowiednią metodę i dodaj wynik do list\n",
    "    mol_for_veber = MolFromSmiles(smiles) # TODO\n",
    "    veber_issues(mol_for_veber)"
   ]
  },
  {
   "cell_type": "code",
   "execution_count": 36,
   "metadata": {},
   "outputs": [
    {
     "name": "stdout",
     "output_type": "stream",
     "text": [
      "[True, True, False, True]\n",
      "[2, 2, 1, 1, 1]\n"
     ]
    }
   ],
   "source": [
    "smiles_to_examine_oprea: list[str] = [\n",
    "    \"CC(=O)Nc1ccc(O)cc1\",  # TODO: Dodaj do listy SMILES, który nie przeszedł przez filtr w poprzednim zadaniu\n",
    "]\n",
    "\n",
    "for smiles in smiles_to_examine_oprea:\n",
    "    # TODO przekonwertuj SMILEsy do Moli, wywołaj odpowiednią metodę i dodaj wynik do list\n",
    "    mol_for_oprea = MolFromSmiles(smiles) # TODO\n",
    "    oprea_issues(mol_for_oprea)"
   ]
  },
  {
   "cell_type": "markdown",
   "metadata": {},
   "source": [
    "TODO:\n",
    "\n",
    "Które reguły zostały złamane w poszczególnych przypadkach?"
   ]
  },
  {
   "cell_type": "markdown",
   "metadata": {},
   "source": [
    "Rzeczywiste implementacje często pozwalają na naruszenie jednej z reguł zawartych w filtrze. Spójrzmy na wyniki filtrowania przy pomocy scikit-fingerprints."
   ]
  }
 ],
 "metadata": {
  "kernelspec": {
   "display_name": "Python 3",
   "language": "python",
   "name": "python3"
  },
  "language_info": {
   "codemirror_mode": {
    "name": "ipython",
    "version": 3
   },
   "file_extension": ".py",
   "mimetype": "text/x-python",
   "name": "python",
   "nbconvert_exporter": "python",
   "pygments_lexer": "ipython3",
   "version": "3.11.4"
  }
 },
 "nbformat": 4,
 "nbformat_minor": 2
}
